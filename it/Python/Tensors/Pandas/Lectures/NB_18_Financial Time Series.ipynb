{
 "cells": [
  {
   "cell_type": "markdown",
   "metadata": {},
   "source": [
    "# Time Series Advanced / Financial Time Series"
   ]
  },
  {
   "cell_type": "markdown",
   "metadata": {},
   "source": [
    "## Importing and Exporting Stock Price Data from Yahoo Finance"
   ]
  },
  {
   "cell_type": "code",
   "execution_count": 3,
   "metadata": {},
   "outputs": [],
   "source": [
    "import pandas as pd\n",
    "\n",
    "from pandas_datareader import data as pdr\n",
    "\n",
    "import yfinance as yf\n",
    "import matplotlib.pyplot as plt"
   ]
  },
  {
   "cell_type": "code",
   "execution_count": 4,
   "metadata": {},
   "outputs": [],
   "source": [
    "yf.pdr_override()"
   ]
  },
  {
   "cell_type": "code",
   "execution_count": 5,
   "metadata": {},
   "outputs": [],
   "source": [
    "stocks = [\"AAPL\", \"BA\", \"KO\", \"IBM\", \"DIS\", \"MSFT\" ]"
   ]
  },
  {
   "cell_type": "code",
   "execution_count": 6,
   "metadata": {
    "scrolled": true
   },
   "outputs": [
    {
     "name": "stdout",
     "output_type": "stream",
     "text": [
      "[*********************100%***********************]  6 of 6 downloaded\n"
     ]
    }
   ],
   "source": [
    "stocks = pdr.get_data_yahoo(stocks, start = \"2010-01-01\", end = \"2019-02-06\")"
   ]
  },
  {
   "cell_type": "code",
   "execution_count": 7,
   "metadata": {
    "scrolled": true
   },
   "outputs": [
    {
     "data": {
      "text/html": [
       "<div>\n",
       "<style scoped>\n",
       "    .dataframe tbody tr th:only-of-type {\n",
       "        vertical-align: middle;\n",
       "    }\n",
       "\n",
       "    .dataframe tbody tr th {\n",
       "        vertical-align: top;\n",
       "    }\n",
       "\n",
       "    .dataframe thead tr th {\n",
       "        text-align: left;\n",
       "    }\n",
       "\n",
       "    .dataframe thead tr:last-of-type th {\n",
       "        text-align: right;\n",
       "    }\n",
       "</style>\n",
       "<table border=\"1\" class=\"dataframe\">\n",
       "  <thead>\n",
       "    <tr>\n",
       "      <th></th>\n",
       "      <th colspan=\"6\" halign=\"left\">Adj Close</th>\n",
       "      <th colspan=\"4\" halign=\"left\">Close</th>\n",
       "      <th>...</th>\n",
       "      <th colspan=\"4\" halign=\"left\">Open</th>\n",
       "      <th colspan=\"6\" halign=\"left\">Volume</th>\n",
       "    </tr>\n",
       "    <tr>\n",
       "      <th></th>\n",
       "      <th>AAPL</th>\n",
       "      <th>BA</th>\n",
       "      <th>DIS</th>\n",
       "      <th>IBM</th>\n",
       "      <th>KO</th>\n",
       "      <th>MSFT</th>\n",
       "      <th>AAPL</th>\n",
       "      <th>BA</th>\n",
       "      <th>DIS</th>\n",
       "      <th>IBM</th>\n",
       "      <th>...</th>\n",
       "      <th>DIS</th>\n",
       "      <th>IBM</th>\n",
       "      <th>KO</th>\n",
       "      <th>MSFT</th>\n",
       "      <th>AAPL</th>\n",
       "      <th>BA</th>\n",
       "      <th>DIS</th>\n",
       "      <th>IBM</th>\n",
       "      <th>KO</th>\n",
       "      <th>MSFT</th>\n",
       "    </tr>\n",
       "    <tr>\n",
       "      <th>Date</th>\n",
       "      <th></th>\n",
       "      <th></th>\n",
       "      <th></th>\n",
       "      <th></th>\n",
       "      <th></th>\n",
       "      <th></th>\n",
       "      <th></th>\n",
       "      <th></th>\n",
       "      <th></th>\n",
       "      <th></th>\n",
       "      <th></th>\n",
       "      <th></th>\n",
       "      <th></th>\n",
       "      <th></th>\n",
       "      <th></th>\n",
       "      <th></th>\n",
       "      <th></th>\n",
       "      <th></th>\n",
       "      <th></th>\n",
       "      <th></th>\n",
       "      <th></th>\n",
       "    </tr>\n",
       "  </thead>\n",
       "  <tbody>\n",
       "    <tr>\n",
       "      <th>2010-01-04</th>\n",
       "      <td>20.31</td>\n",
       "      <td>44.23</td>\n",
       "      <td>28.28</td>\n",
       "      <td>99.30</td>\n",
       "      <td>19.90</td>\n",
       "      <td>24.53</td>\n",
       "      <td>30.57</td>\n",
       "      <td>56.18</td>\n",
       "      <td>32.07</td>\n",
       "      <td>132.45</td>\n",
       "      <td>...</td>\n",
       "      <td>32.50</td>\n",
       "      <td>131.18</td>\n",
       "      <td>28.58</td>\n",
       "      <td>30.62</td>\n",
       "      <td>123432400</td>\n",
       "      <td>6186700</td>\n",
       "      <td>13700400</td>\n",
       "      <td>6155300</td>\n",
       "      <td>13870400</td>\n",
       "      <td>38409100</td>\n",
       "    </tr>\n",
       "    <tr>\n",
       "      <th>2010-01-05</th>\n",
       "      <td>20.34</td>\n",
       "      <td>45.68</td>\n",
       "      <td>28.20</td>\n",
       "      <td>98.10</td>\n",
       "      <td>19.66</td>\n",
       "      <td>24.53</td>\n",
       "      <td>30.63</td>\n",
       "      <td>58.02</td>\n",
       "      <td>31.99</td>\n",
       "      <td>130.85</td>\n",
       "      <td>...</td>\n",
       "      <td>32.07</td>\n",
       "      <td>131.68</td>\n",
       "      <td>28.42</td>\n",
       "      <td>30.85</td>\n",
       "      <td>150476200</td>\n",
       "      <td>8867800</td>\n",
       "      <td>10307700</td>\n",
       "      <td>6841400</td>\n",
       "      <td>23172400</td>\n",
       "      <td>49749600</td>\n",
       "    </tr>\n",
       "    <tr>\n",
       "      <th>2010-01-06</th>\n",
       "      <td>20.02</td>\n",
       "      <td>47.06</td>\n",
       "      <td>28.05</td>\n",
       "      <td>97.46</td>\n",
       "      <td>19.66</td>\n",
       "      <td>24.38</td>\n",
       "      <td>30.14</td>\n",
       "      <td>59.78</td>\n",
       "      <td>31.82</td>\n",
       "      <td>130.00</td>\n",
       "      <td>...</td>\n",
       "      <td>31.90</td>\n",
       "      <td>130.68</td>\n",
       "      <td>28.17</td>\n",
       "      <td>30.88</td>\n",
       "      <td>138040000</td>\n",
       "      <td>8836500</td>\n",
       "      <td>10709500</td>\n",
       "      <td>5605300</td>\n",
       "      <td>19264600</td>\n",
       "      <td>58182400</td>\n",
       "    </tr>\n",
       "    <tr>\n",
       "      <th>2010-01-07</th>\n",
       "      <td>19.98</td>\n",
       "      <td>48.97</td>\n",
       "      <td>28.06</td>\n",
       "      <td>97.13</td>\n",
       "      <td>19.61</td>\n",
       "      <td>24.13</td>\n",
       "      <td>30.08</td>\n",
       "      <td>62.20</td>\n",
       "      <td>31.83</td>\n",
       "      <td>129.55</td>\n",
       "      <td>...</td>\n",
       "      <td>31.77</td>\n",
       "      <td>129.87</td>\n",
       "      <td>28.17</td>\n",
       "      <td>30.63</td>\n",
       "      <td>119282800</td>\n",
       "      <td>14379100</td>\n",
       "      <td>8202100</td>\n",
       "      <td>5840600</td>\n",
       "      <td>13234600</td>\n",
       "      <td>50559700</td>\n",
       "    </tr>\n",
       "    <tr>\n",
       "      <th>2010-01-08</th>\n",
       "      <td>20.12</td>\n",
       "      <td>48.50</td>\n",
       "      <td>28.11</td>\n",
       "      <td>98.10</td>\n",
       "      <td>19.24</td>\n",
       "      <td>24.30</td>\n",
       "      <td>30.28</td>\n",
       "      <td>61.60</td>\n",
       "      <td>31.88</td>\n",
       "      <td>130.85</td>\n",
       "      <td>...</td>\n",
       "      <td>31.66</td>\n",
       "      <td>129.07</td>\n",
       "      <td>27.73</td>\n",
       "      <td>30.28</td>\n",
       "      <td>111902700</td>\n",
       "      <td>7146600</td>\n",
       "      <td>7657500</td>\n",
       "      <td>4197200</td>\n",
       "      <td>28712400</td>\n",
       "      <td>51197400</td>\n",
       "    </tr>\n",
       "  </tbody>\n",
       "</table>\n",
       "<p>5 rows × 36 columns</p>\n",
       "</div>"
      ],
      "text/plain": [
       "           Adj Close                                     Close                \\\n",
       "                AAPL     BA    DIS    IBM     KO   MSFT   AAPL     BA    DIS   \n",
       "Date                                                                           \n",
       "2010-01-04     20.31  44.23  28.28  99.30  19.90  24.53  30.57  56.18  32.07   \n",
       "2010-01-05     20.34  45.68  28.20  98.10  19.66  24.53  30.63  58.02  31.99   \n",
       "2010-01-06     20.02  47.06  28.05  97.46  19.66  24.38  30.14  59.78  31.82   \n",
       "2010-01-07     19.98  48.97  28.06  97.13  19.61  24.13  30.08  62.20  31.83   \n",
       "2010-01-08     20.12  48.50  28.11  98.10  19.24  24.30  30.28  61.60  31.88   \n",
       "\n",
       "                    ...   Open                           Volume            \\\n",
       "               IBM  ...    DIS     IBM     KO   MSFT       AAPL        BA   \n",
       "Date                ...                                                     \n",
       "2010-01-04  132.45  ...  32.50  131.18  28.58  30.62  123432400   6186700   \n",
       "2010-01-05  130.85  ...  32.07  131.68  28.42  30.85  150476200   8867800   \n",
       "2010-01-06  130.00  ...  31.90  130.68  28.17  30.88  138040000   8836500   \n",
       "2010-01-07  129.55  ...  31.77  129.87  28.17  30.63  119282800  14379100   \n",
       "2010-01-08  130.85  ...  31.66  129.07  27.73  30.28  111902700   7146600   \n",
       "\n",
       "                                                   \n",
       "                 DIS      IBM        KO      MSFT  \n",
       "Date                                               \n",
       "2010-01-04  13700400  6155300  13870400  38409100  \n",
       "2010-01-05  10307700  6841400  23172400  49749600  \n",
       "2010-01-06  10709500  5605300  19264600  58182400  \n",
       "2010-01-07   8202100  5840600  13234600  50559700  \n",
       "2010-01-08   7657500  4197200  28712400  51197400  \n",
       "\n",
       "[5 rows x 36 columns]"
      ]
     },
     "execution_count": 7,
     "metadata": {},
     "output_type": "execute_result"
    }
   ],
   "source": [
    "stocks.head()"
   ]
  },
  {
   "cell_type": "code",
   "execution_count": 8,
   "metadata": {},
   "outputs": [
    {
     "data": {
      "text/html": [
       "<div>\n",
       "<style scoped>\n",
       "    .dataframe tbody tr th:only-of-type {\n",
       "        vertical-align: middle;\n",
       "    }\n",
       "\n",
       "    .dataframe tbody tr th {\n",
       "        vertical-align: top;\n",
       "    }\n",
       "\n",
       "    .dataframe thead tr th {\n",
       "        text-align: left;\n",
       "    }\n",
       "\n",
       "    .dataframe thead tr:last-of-type th {\n",
       "        text-align: right;\n",
       "    }\n",
       "</style>\n",
       "<table border=\"1\" class=\"dataframe\">\n",
       "  <thead>\n",
       "    <tr>\n",
       "      <th></th>\n",
       "      <th colspan=\"6\" halign=\"left\">Adj Close</th>\n",
       "      <th colspan=\"4\" halign=\"left\">Close</th>\n",
       "      <th>...</th>\n",
       "      <th colspan=\"4\" halign=\"left\">Open</th>\n",
       "      <th colspan=\"6\" halign=\"left\">Volume</th>\n",
       "    </tr>\n",
       "    <tr>\n",
       "      <th></th>\n",
       "      <th>AAPL</th>\n",
       "      <th>BA</th>\n",
       "      <th>DIS</th>\n",
       "      <th>IBM</th>\n",
       "      <th>KO</th>\n",
       "      <th>MSFT</th>\n",
       "      <th>AAPL</th>\n",
       "      <th>BA</th>\n",
       "      <th>DIS</th>\n",
       "      <th>IBM</th>\n",
       "      <th>...</th>\n",
       "      <th>DIS</th>\n",
       "      <th>IBM</th>\n",
       "      <th>KO</th>\n",
       "      <th>MSFT</th>\n",
       "      <th>AAPL</th>\n",
       "      <th>BA</th>\n",
       "      <th>DIS</th>\n",
       "      <th>IBM</th>\n",
       "      <th>KO</th>\n",
       "      <th>MSFT</th>\n",
       "    </tr>\n",
       "    <tr>\n",
       "      <th>Date</th>\n",
       "      <th></th>\n",
       "      <th></th>\n",
       "      <th></th>\n",
       "      <th></th>\n",
       "      <th></th>\n",
       "      <th></th>\n",
       "      <th></th>\n",
       "      <th></th>\n",
       "      <th></th>\n",
       "      <th></th>\n",
       "      <th></th>\n",
       "      <th></th>\n",
       "      <th></th>\n",
       "      <th></th>\n",
       "      <th></th>\n",
       "      <th></th>\n",
       "      <th></th>\n",
       "      <th></th>\n",
       "      <th></th>\n",
       "      <th></th>\n",
       "      <th></th>\n",
       "    </tr>\n",
       "  </thead>\n",
       "  <tbody>\n",
       "    <tr>\n",
       "      <th>2019-01-30</th>\n",
       "      <td>163.91</td>\n",
       "      <td>383.58</td>\n",
       "      <td>110.13</td>\n",
       "      <td>131.27</td>\n",
       "      <td>47.45</td>\n",
       "      <td>105.54</td>\n",
       "      <td>165.25</td>\n",
       "      <td>387.72</td>\n",
       "      <td>110.13</td>\n",
       "      <td>134.38</td>\n",
       "      <td>...</td>\n",
       "      <td>110.30</td>\n",
       "      <td>134.00</td>\n",
       "      <td>47.25</td>\n",
       "      <td>104.62</td>\n",
       "      <td>61109800</td>\n",
       "      <td>12705300</td>\n",
       "      <td>7853800</td>\n",
       "      <td>4500900</td>\n",
       "      <td>12952500</td>\n",
       "      <td>49471900</td>\n",
       "    </tr>\n",
       "    <tr>\n",
       "      <th>2019-01-31</th>\n",
       "      <td>165.09</td>\n",
       "      <td>381.50</td>\n",
       "      <td>111.52</td>\n",
       "      <td>131.31</td>\n",
       "      <td>47.71</td>\n",
       "      <td>103.60</td>\n",
       "      <td>166.44</td>\n",
       "      <td>385.62</td>\n",
       "      <td>111.52</td>\n",
       "      <td>134.42</td>\n",
       "      <td>...</td>\n",
       "      <td>110.10</td>\n",
       "      <td>134.45</td>\n",
       "      <td>47.85</td>\n",
       "      <td>103.80</td>\n",
       "      <td>40739600</td>\n",
       "      <td>6878500</td>\n",
       "      <td>8351600</td>\n",
       "      <td>4884000</td>\n",
       "      <td>32181500</td>\n",
       "      <td>55636400</td>\n",
       "    </tr>\n",
       "    <tr>\n",
       "      <th>2019-02-01</th>\n",
       "      <td>165.17</td>\n",
       "      <td>383.29</td>\n",
       "      <td>111.30</td>\n",
       "      <td>131.00</td>\n",
       "      <td>48.28</td>\n",
       "      <td>101.97</td>\n",
       "      <td>166.52</td>\n",
       "      <td>387.43</td>\n",
       "      <td>111.30</td>\n",
       "      <td>134.10</td>\n",
       "      <td>...</td>\n",
       "      <td>111.97</td>\n",
       "      <td>134.97</td>\n",
       "      <td>48.48</td>\n",
       "      <td>103.78</td>\n",
       "      <td>32668100</td>\n",
       "      <td>5625700</td>\n",
       "      <td>6557700</td>\n",
       "      <td>3806000</td>\n",
       "      <td>19130100</td>\n",
       "      <td>35535700</td>\n",
       "    </tr>\n",
       "    <tr>\n",
       "      <th>2019-02-04</th>\n",
       "      <td>169.86</td>\n",
       "      <td>392.76</td>\n",
       "      <td>111.80</td>\n",
       "      <td>132.06</td>\n",
       "      <td>48.82</td>\n",
       "      <td>104.90</td>\n",
       "      <td>171.25</td>\n",
       "      <td>397.00</td>\n",
       "      <td>111.80</td>\n",
       "      <td>135.19</td>\n",
       "      <td>...</td>\n",
       "      <td>111.41</td>\n",
       "      <td>134.02</td>\n",
       "      <td>48.70</td>\n",
       "      <td>102.87</td>\n",
       "      <td>31495500</td>\n",
       "      <td>4256600</td>\n",
       "      <td>7037000</td>\n",
       "      <td>3966600</td>\n",
       "      <td>15105700</td>\n",
       "      <td>31315100</td>\n",
       "    </tr>\n",
       "    <tr>\n",
       "      <th>2019-02-05</th>\n",
       "      <td>172.77</td>\n",
       "      <td>405.80</td>\n",
       "      <td>112.66</td>\n",
       "      <td>132.42</td>\n",
       "      <td>48.83</td>\n",
       "      <td>106.37</td>\n",
       "      <td>174.18</td>\n",
       "      <td>410.18</td>\n",
       "      <td>112.66</td>\n",
       "      <td>135.55</td>\n",
       "      <td>...</td>\n",
       "      <td>112.02</td>\n",
       "      <td>135.28</td>\n",
       "      <td>49.33</td>\n",
       "      <td>106.06</td>\n",
       "      <td>36101600</td>\n",
       "      <td>7230400</td>\n",
       "      <td>13619800</td>\n",
       "      <td>5398900</td>\n",
       "      <td>12651900</td>\n",
       "      <td>27325400</td>\n",
       "    </tr>\n",
       "  </tbody>\n",
       "</table>\n",
       "<p>5 rows × 36 columns</p>\n",
       "</div>"
      ],
      "text/plain": [
       "           Adj Close                                          Close          \\\n",
       "                AAPL      BA     DIS     IBM     KO    MSFT    AAPL      BA   \n",
       "Date                                                                          \n",
       "2019-01-30    163.91  383.58  110.13  131.27  47.45  105.54  165.25  387.72   \n",
       "2019-01-31    165.09  381.50  111.52  131.31  47.71  103.60  166.44  385.62   \n",
       "2019-02-01    165.17  383.29  111.30  131.00  48.28  101.97  166.52  387.43   \n",
       "2019-02-04    169.86  392.76  111.80  132.06  48.82  104.90  171.25  397.00   \n",
       "2019-02-05    172.77  405.80  112.66  132.42  48.83  106.37  174.18  410.18   \n",
       "\n",
       "                            ...    Open                           Volume  \\\n",
       "               DIS     IBM  ...     DIS     IBM     KO    MSFT      AAPL   \n",
       "Date                        ...                                            \n",
       "2019-01-30  110.13  134.38  ...  110.30  134.00  47.25  104.62  61109800   \n",
       "2019-01-31  111.52  134.42  ...  110.10  134.45  47.85  103.80  40739600   \n",
       "2019-02-01  111.30  134.10  ...  111.97  134.97  48.48  103.78  32668100   \n",
       "2019-02-04  111.80  135.19  ...  111.41  134.02  48.70  102.87  31495500   \n",
       "2019-02-05  112.66  135.55  ...  112.02  135.28  49.33  106.06  36101600   \n",
       "\n",
       "                                                             \n",
       "                  BA       DIS      IBM        KO      MSFT  \n",
       "Date                                                         \n",
       "2019-01-30  12705300   7853800  4500900  12952500  49471900  \n",
       "2019-01-31   6878500   8351600  4884000  32181500  55636400  \n",
       "2019-02-01   5625700   6557700  3806000  19130100  35535700  \n",
       "2019-02-04   4256600   7037000  3966600  15105700  31315100  \n",
       "2019-02-05   7230400  13619800  5398900  12651900  27325400  \n",
       "\n",
       "[5 rows x 36 columns]"
      ]
     },
     "execution_count": 8,
     "metadata": {},
     "output_type": "execute_result"
    }
   ],
   "source": [
    "stocks.tail()"
   ]
  },
  {
   "cell_type": "code",
   "execution_count": 9,
   "metadata": {
    "scrolled": true
   },
   "outputs": [
    {
     "name": "stdout",
     "output_type": "stream",
     "text": [
      "<class 'pandas.core.frame.DataFrame'>\n",
      "DatetimeIndex: 2288 entries, 2010-01-04 to 2019-02-05\n",
      "Data columns (total 36 columns):\n",
      "(Adj Close, AAPL)    2288 non-null float64\n",
      "(Adj Close, BA)      2288 non-null float64\n",
      "(Adj Close, DIS)     2288 non-null float64\n",
      "(Adj Close, IBM)     2288 non-null float64\n",
      "(Adj Close, KO)      2288 non-null float64\n",
      "(Adj Close, MSFT)    2288 non-null float64\n",
      "(Close, AAPL)        2288 non-null float64\n",
      "(Close, BA)          2288 non-null float64\n",
      "(Close, DIS)         2288 non-null float64\n",
      "(Close, IBM)         2288 non-null float64\n",
      "(Close, KO)          2288 non-null float64\n",
      "(Close, MSFT)        2288 non-null float64\n",
      "(High, AAPL)         2288 non-null float64\n",
      "(High, BA)           2288 non-null float64\n",
      "(High, DIS)          2288 non-null float64\n",
      "(High, IBM)          2288 non-null float64\n",
      "(High, KO)           2288 non-null float64\n",
      "(High, MSFT)         2288 non-null float64\n",
      "(Low, AAPL)          2288 non-null float64\n",
      "(Low, BA)            2288 non-null float64\n",
      "(Low, DIS)           2288 non-null float64\n",
      "(Low, IBM)           2288 non-null float64\n",
      "(Low, KO)            2288 non-null float64\n",
      "(Low, MSFT)          2288 non-null float64\n",
      "(Open, AAPL)         2288 non-null float64\n",
      "(Open, BA)           2288 non-null float64\n",
      "(Open, DIS)          2288 non-null float64\n",
      "(Open, IBM)          2288 non-null float64\n",
      "(Open, KO)           2288 non-null float64\n",
      "(Open, MSFT)         2288 non-null float64\n",
      "(Volume, AAPL)       2288 non-null int64\n",
      "(Volume, BA)         2288 non-null int64\n",
      "(Volume, DIS)        2288 non-null int64\n",
      "(Volume, IBM)        2288 non-null int64\n",
      "(Volume, KO)         2288 non-null int64\n",
      "(Volume, MSFT)       2288 non-null int64\n",
      "dtypes: float64(30), int64(6)\n",
      "memory usage: 661.4 KB\n"
     ]
    }
   ],
   "source": [
    "stocks.info()"
   ]
  },
  {
   "cell_type": "code",
   "execution_count": 10,
   "metadata": {},
   "outputs": [],
   "source": [
    "stocks.to_csv(\"stocks.csv\")"
   ]
  },
  {
   "cell_type": "code",
   "execution_count": 11,
   "metadata": {},
   "outputs": [],
   "source": [
    "stocks = pd.read_csv(\"stocks.csv\", header = [0, 1], index_col= [0], parse_dates=[0])"
   ]
  },
  {
   "cell_type": "code",
   "execution_count": 12,
   "metadata": {},
   "outputs": [
    {
     "data": {
      "text/html": [
       "<div>\n",
       "<style scoped>\n",
       "    .dataframe tbody tr th:only-of-type {\n",
       "        vertical-align: middle;\n",
       "    }\n",
       "\n",
       "    .dataframe tbody tr th {\n",
       "        vertical-align: top;\n",
       "    }\n",
       "\n",
       "    .dataframe thead tr th {\n",
       "        text-align: left;\n",
       "    }\n",
       "\n",
       "    .dataframe thead tr:last-of-type th {\n",
       "        text-align: right;\n",
       "    }\n",
       "</style>\n",
       "<table border=\"1\" class=\"dataframe\">\n",
       "  <thead>\n",
       "    <tr>\n",
       "      <th></th>\n",
       "      <th colspan=\"6\" halign=\"left\">Adj Close</th>\n",
       "      <th colspan=\"4\" halign=\"left\">Close</th>\n",
       "      <th>...</th>\n",
       "      <th colspan=\"4\" halign=\"left\">Open</th>\n",
       "      <th colspan=\"6\" halign=\"left\">Volume</th>\n",
       "    </tr>\n",
       "    <tr>\n",
       "      <th></th>\n",
       "      <th>AAPL</th>\n",
       "      <th>BA</th>\n",
       "      <th>DIS</th>\n",
       "      <th>IBM</th>\n",
       "      <th>KO</th>\n",
       "      <th>MSFT</th>\n",
       "      <th>AAPL</th>\n",
       "      <th>BA</th>\n",
       "      <th>DIS</th>\n",
       "      <th>IBM</th>\n",
       "      <th>...</th>\n",
       "      <th>DIS</th>\n",
       "      <th>IBM</th>\n",
       "      <th>KO</th>\n",
       "      <th>MSFT</th>\n",
       "      <th>AAPL</th>\n",
       "      <th>BA</th>\n",
       "      <th>DIS</th>\n",
       "      <th>IBM</th>\n",
       "      <th>KO</th>\n",
       "      <th>MSFT</th>\n",
       "    </tr>\n",
       "    <tr>\n",
       "      <th>Date</th>\n",
       "      <th></th>\n",
       "      <th></th>\n",
       "      <th></th>\n",
       "      <th></th>\n",
       "      <th></th>\n",
       "      <th></th>\n",
       "      <th></th>\n",
       "      <th></th>\n",
       "      <th></th>\n",
       "      <th></th>\n",
       "      <th></th>\n",
       "      <th></th>\n",
       "      <th></th>\n",
       "      <th></th>\n",
       "      <th></th>\n",
       "      <th></th>\n",
       "      <th></th>\n",
       "      <th></th>\n",
       "      <th></th>\n",
       "      <th></th>\n",
       "      <th></th>\n",
       "    </tr>\n",
       "  </thead>\n",
       "  <tbody>\n",
       "    <tr>\n",
       "      <th>2010-01-04</th>\n",
       "      <td>20.31</td>\n",
       "      <td>44.23</td>\n",
       "      <td>28.28</td>\n",
       "      <td>99.30</td>\n",
       "      <td>19.90</td>\n",
       "      <td>24.53</td>\n",
       "      <td>30.57</td>\n",
       "      <td>56.18</td>\n",
       "      <td>32.07</td>\n",
       "      <td>132.45</td>\n",
       "      <td>...</td>\n",
       "      <td>32.50</td>\n",
       "      <td>131.18</td>\n",
       "      <td>28.58</td>\n",
       "      <td>30.62</td>\n",
       "      <td>123432400</td>\n",
       "      <td>6186700</td>\n",
       "      <td>13700400</td>\n",
       "      <td>6155300</td>\n",
       "      <td>13870400</td>\n",
       "      <td>38409100</td>\n",
       "    </tr>\n",
       "    <tr>\n",
       "      <th>2010-01-05</th>\n",
       "      <td>20.34</td>\n",
       "      <td>45.68</td>\n",
       "      <td>28.20</td>\n",
       "      <td>98.10</td>\n",
       "      <td>19.66</td>\n",
       "      <td>24.53</td>\n",
       "      <td>30.63</td>\n",
       "      <td>58.02</td>\n",
       "      <td>31.99</td>\n",
       "      <td>130.85</td>\n",
       "      <td>...</td>\n",
       "      <td>32.07</td>\n",
       "      <td>131.68</td>\n",
       "      <td>28.42</td>\n",
       "      <td>30.85</td>\n",
       "      <td>150476200</td>\n",
       "      <td>8867800</td>\n",
       "      <td>10307700</td>\n",
       "      <td>6841400</td>\n",
       "      <td>23172400</td>\n",
       "      <td>49749600</td>\n",
       "    </tr>\n",
       "    <tr>\n",
       "      <th>2010-01-06</th>\n",
       "      <td>20.02</td>\n",
       "      <td>47.06</td>\n",
       "      <td>28.05</td>\n",
       "      <td>97.46</td>\n",
       "      <td>19.66</td>\n",
       "      <td>24.38</td>\n",
       "      <td>30.14</td>\n",
       "      <td>59.78</td>\n",
       "      <td>31.82</td>\n",
       "      <td>130.00</td>\n",
       "      <td>...</td>\n",
       "      <td>31.90</td>\n",
       "      <td>130.68</td>\n",
       "      <td>28.17</td>\n",
       "      <td>30.88</td>\n",
       "      <td>138040000</td>\n",
       "      <td>8836500</td>\n",
       "      <td>10709500</td>\n",
       "      <td>5605300</td>\n",
       "      <td>19264600</td>\n",
       "      <td>58182400</td>\n",
       "    </tr>\n",
       "    <tr>\n",
       "      <th>2010-01-07</th>\n",
       "      <td>19.98</td>\n",
       "      <td>48.97</td>\n",
       "      <td>28.06</td>\n",
       "      <td>97.13</td>\n",
       "      <td>19.61</td>\n",
       "      <td>24.13</td>\n",
       "      <td>30.08</td>\n",
       "      <td>62.20</td>\n",
       "      <td>31.83</td>\n",
       "      <td>129.55</td>\n",
       "      <td>...</td>\n",
       "      <td>31.77</td>\n",
       "      <td>129.87</td>\n",
       "      <td>28.17</td>\n",
       "      <td>30.63</td>\n",
       "      <td>119282800</td>\n",
       "      <td>14379100</td>\n",
       "      <td>8202100</td>\n",
       "      <td>5840600</td>\n",
       "      <td>13234600</td>\n",
       "      <td>50559700</td>\n",
       "    </tr>\n",
       "    <tr>\n",
       "      <th>2010-01-08</th>\n",
       "      <td>20.12</td>\n",
       "      <td>48.50</td>\n",
       "      <td>28.11</td>\n",
       "      <td>98.10</td>\n",
       "      <td>19.24</td>\n",
       "      <td>24.30</td>\n",
       "      <td>30.28</td>\n",
       "      <td>61.60</td>\n",
       "      <td>31.88</td>\n",
       "      <td>130.85</td>\n",
       "      <td>...</td>\n",
       "      <td>31.66</td>\n",
       "      <td>129.07</td>\n",
       "      <td>27.73</td>\n",
       "      <td>30.28</td>\n",
       "      <td>111902700</td>\n",
       "      <td>7146600</td>\n",
       "      <td>7657500</td>\n",
       "      <td>4197200</td>\n",
       "      <td>28712400</td>\n",
       "      <td>51197400</td>\n",
       "    </tr>\n",
       "  </tbody>\n",
       "</table>\n",
       "<p>5 rows × 36 columns</p>\n",
       "</div>"
      ],
      "text/plain": [
       "           Adj Close                                     Close                \\\n",
       "                AAPL     BA    DIS    IBM     KO   MSFT   AAPL     BA    DIS   \n",
       "Date                                                                           \n",
       "2010-01-04     20.31  44.23  28.28  99.30  19.90  24.53  30.57  56.18  32.07   \n",
       "2010-01-05     20.34  45.68  28.20  98.10  19.66  24.53  30.63  58.02  31.99   \n",
       "2010-01-06     20.02  47.06  28.05  97.46  19.66  24.38  30.14  59.78  31.82   \n",
       "2010-01-07     19.98  48.97  28.06  97.13  19.61  24.13  30.08  62.20  31.83   \n",
       "2010-01-08     20.12  48.50  28.11  98.10  19.24  24.30  30.28  61.60  31.88   \n",
       "\n",
       "                    ...   Open                           Volume            \\\n",
       "               IBM  ...    DIS     IBM     KO   MSFT       AAPL        BA   \n",
       "Date                ...                                                     \n",
       "2010-01-04  132.45  ...  32.50  131.18  28.58  30.62  123432400   6186700   \n",
       "2010-01-05  130.85  ...  32.07  131.68  28.42  30.85  150476200   8867800   \n",
       "2010-01-06  130.00  ...  31.90  130.68  28.17  30.88  138040000   8836500   \n",
       "2010-01-07  129.55  ...  31.77  129.87  28.17  30.63  119282800  14379100   \n",
       "2010-01-08  130.85  ...  31.66  129.07  27.73  30.28  111902700   7146600   \n",
       "\n",
       "                                                   \n",
       "                 DIS      IBM        KO      MSFT  \n",
       "Date                                               \n",
       "2010-01-04  13700400  6155300  13870400  38409100  \n",
       "2010-01-05  10307700  6841400  23172400  49749600  \n",
       "2010-01-06  10709500  5605300  19264600  58182400  \n",
       "2010-01-07   8202100  5840600  13234600  50559700  \n",
       "2010-01-08   7657500  4197200  28712400  51197400  \n",
       "\n",
       "[5 rows x 36 columns]"
      ]
     },
     "execution_count": 12,
     "metadata": {},
     "output_type": "execute_result"
    }
   ],
   "source": [
    "stocks.head()"
   ]
  },
  {
   "cell_type": "code",
   "execution_count": null,
   "metadata": {},
   "outputs": [],
   "source": [
    "stocks.columns = stocks.columns.to_flat_index()"
   ]
  },
  {
   "cell_type": "code",
   "execution_count": null,
   "metadata": {},
   "outputs": [],
   "source": [
    "stocks.columns"
   ]
  },
  {
   "cell_type": "code",
   "execution_count": null,
   "metadata": {},
   "outputs": [],
   "source": [
    "stocks.columns = pd.MultiIndex.from_tuples(stocks.columns)"
   ]
  },
  {
   "cell_type": "code",
   "execution_count": null,
   "metadata": {},
   "outputs": [],
   "source": [
    "stocks.head()"
   ]
  },
  {
   "cell_type": "code",
   "execution_count": null,
   "metadata": {},
   "outputs": [],
   "source": [
    "stocks.swaplevel(axis = 1).sort_index(axis = 1)"
   ]
  },
  {
   "cell_type": "code",
   "execution_count": null,
   "metadata": {},
   "outputs": [],
   "source": []
  },
  {
   "cell_type": "markdown",
   "metadata": {},
   "source": [
    "## Initial Inspection and Visualization"
   ]
  },
  {
   "cell_type": "code",
   "execution_count": null,
   "metadata": {},
   "outputs": [],
   "source": [
    "import pandas as pd"
   ]
  },
  {
   "cell_type": "code",
   "execution_count": null,
   "metadata": {},
   "outputs": [],
   "source": [
    "stocks = pd.read_csv(\"stocks.csv\", header = [0,1], index_col= [0], parse_dates= [0])"
   ]
  },
  {
   "cell_type": "code",
   "execution_count": null,
   "metadata": {},
   "outputs": [],
   "source": [
    "stocks.head()"
   ]
  },
  {
   "cell_type": "code",
   "execution_count": null,
   "metadata": {},
   "outputs": [],
   "source": [
    "stocks.tail()"
   ]
  },
  {
   "cell_type": "code",
   "execution_count": null,
   "metadata": {
    "scrolled": false
   },
   "outputs": [],
   "source": [
    "stocks.info()"
   ]
  },
  {
   "cell_type": "code",
   "execution_count": null,
   "metadata": {},
   "outputs": [],
   "source": [
    "stocks.describe()"
   ]
  },
  {
   "cell_type": "code",
   "execution_count": null,
   "metadata": {},
   "outputs": [],
   "source": [
    "close = stocks.loc[:, \"Close\"].copy()"
   ]
  },
  {
   "cell_type": "code",
   "execution_count": null,
   "metadata": {},
   "outputs": [],
   "source": [
    "close.head()"
   ]
  },
  {
   "cell_type": "code",
   "execution_count": null,
   "metadata": {},
   "outputs": [],
   "source": [
    "import matplotlib.pyplot as plt\n",
    "plt.style.use(\"seaborn\")"
   ]
  },
  {
   "cell_type": "code",
   "execution_count": null,
   "metadata": {
    "scrolled": false
   },
   "outputs": [],
   "source": [
    "close.plot(figsize = (15, 8 ), fontsize = 13)\n",
    "plt.legend(fontsize = 13)\n",
    "plt.show()"
   ]
  },
  {
   "cell_type": "markdown",
   "metadata": {},
   "source": [
    "## Normalizing Time Series to a Base Value (100)"
   ]
  },
  {
   "cell_type": "code",
   "execution_count": null,
   "metadata": {},
   "outputs": [],
   "source": [
    "close.head()"
   ]
  },
  {
   "cell_type": "code",
   "execution_count": null,
   "metadata": {},
   "outputs": [],
   "source": [
    "close.iloc[0,0]"
   ]
  },
  {
   "cell_type": "code",
   "execution_count": null,
   "metadata": {
    "scrolled": true
   },
   "outputs": [],
   "source": [
    "close.AAPL.div(close.iloc[0,0]).mul(100)"
   ]
  },
  {
   "cell_type": "code",
   "execution_count": null,
   "metadata": {
    "scrolled": true
   },
   "outputs": [],
   "source": [
    "close.iloc[0]"
   ]
  },
  {
   "cell_type": "code",
   "execution_count": null,
   "metadata": {
    "scrolled": true
   },
   "outputs": [],
   "source": [
    "norm = close.div(close.iloc[0]).mul(100)\n",
    "norm"
   ]
  },
  {
   "cell_type": "code",
   "execution_count": null,
   "metadata": {},
   "outputs": [],
   "source": [
    "norm.plot(figsize = (15, 8 ), fontsize = 13)\n",
    "plt.legend(fontsize = 13)\n",
    "plt.show()"
   ]
  },
  {
   "cell_type": "code",
   "execution_count": null,
   "metadata": {},
   "outputs": [],
   "source": []
  },
  {
   "cell_type": "markdown",
   "metadata": {},
   "source": [
    "## The shift() method"
   ]
  },
  {
   "cell_type": "code",
   "execution_count": null,
   "metadata": {},
   "outputs": [],
   "source": [
    "close.head()"
   ]
  },
  {
   "cell_type": "code",
   "execution_count": null,
   "metadata": {},
   "outputs": [],
   "source": [
    "aapl = close.AAPL.copy().to_frame()"
   ]
  },
  {
   "cell_type": "code",
   "execution_count": null,
   "metadata": {},
   "outputs": [],
   "source": [
    "aapl.head()"
   ]
  },
  {
   "cell_type": "code",
   "execution_count": null,
   "metadata": {
    "scrolled": true
   },
   "outputs": [],
   "source": [
    "aapl.shift(periods = 1)"
   ]
  },
  {
   "cell_type": "code",
   "execution_count": null,
   "metadata": {},
   "outputs": [],
   "source": [
    "aapl[\"lag1\"] = aapl.shift(periods = 1)"
   ]
  },
  {
   "cell_type": "code",
   "execution_count": null,
   "metadata": {
    "scrolled": true
   },
   "outputs": [],
   "source": [
    "aapl.head()"
   ]
  },
  {
   "cell_type": "code",
   "execution_count": null,
   "metadata": {
    "scrolled": true
   },
   "outputs": [],
   "source": [
    "aapl.AAPL.sub(aapl.lag1)"
   ]
  },
  {
   "cell_type": "code",
   "execution_count": null,
   "metadata": {},
   "outputs": [],
   "source": [
    "aapl[\"Diff\"] = aapl.AAPL.sub(aapl.lag1)"
   ]
  },
  {
   "cell_type": "code",
   "execution_count": null,
   "metadata": {},
   "outputs": [],
   "source": [
    "aapl.head()"
   ]
  },
  {
   "cell_type": "code",
   "execution_count": null,
   "metadata": {
    "scrolled": true
   },
   "outputs": [],
   "source": [
    "aapl.AAPL.div(aapl.lag1).sub(1).mul(100)"
   ]
  },
  {
   "cell_type": "code",
   "execution_count": null,
   "metadata": {},
   "outputs": [],
   "source": [
    "aapl[\"pct_change\"] = aapl.AAPL.div(aapl.lag1).sub(1).mul(100)"
   ]
  },
  {
   "cell_type": "code",
   "execution_count": null,
   "metadata": {
    "scrolled": true
   },
   "outputs": [],
   "source": [
    "aapl.head()"
   ]
  },
  {
   "cell_type": "code",
   "execution_count": null,
   "metadata": {},
   "outputs": [],
   "source": []
  },
  {
   "cell_type": "markdown",
   "metadata": {},
   "source": [
    "## The methods diff() and pct_change()"
   ]
  },
  {
   "cell_type": "code",
   "execution_count": null,
   "metadata": {},
   "outputs": [],
   "source": [
    "aapl.head()"
   ]
  },
  {
   "cell_type": "code",
   "execution_count": null,
   "metadata": {
    "scrolled": true
   },
   "outputs": [],
   "source": [
    "aapl.AAPL.diff(periods = 2)"
   ]
  },
  {
   "cell_type": "code",
   "execution_count": null,
   "metadata": {
    "scrolled": true
   },
   "outputs": [],
   "source": [
    "aapl[\"Diff2\"] = aapl.AAPL.diff(periods = 1)"
   ]
  },
  {
   "cell_type": "code",
   "execution_count": null,
   "metadata": {},
   "outputs": [],
   "source": [
    "aapl.head(10)"
   ]
  },
  {
   "cell_type": "code",
   "execution_count": null,
   "metadata": {},
   "outputs": [],
   "source": [
    "aapl.Diff.equals(aapl.Diff2)"
   ]
  },
  {
   "cell_type": "code",
   "execution_count": null,
   "metadata": {},
   "outputs": [],
   "source": [
    "aapl[\"pct_change2\"] = aapl.AAPL.pct_change(periods = 1).mul(100)"
   ]
  },
  {
   "cell_type": "code",
   "execution_count": null,
   "metadata": {},
   "outputs": [],
   "source": [
    "aapl.head()"
   ]
  },
  {
   "cell_type": "code",
   "execution_count": null,
   "metadata": {
    "scrolled": true
   },
   "outputs": [],
   "source": [
    "aapl.AAPL.resample(\"BM\").last().pct_change(periods =1).mul(100)"
   ]
  },
  {
   "cell_type": "code",
   "execution_count": null,
   "metadata": {},
   "outputs": [],
   "source": []
  },
  {
   "cell_type": "markdown",
   "metadata": {},
   "source": [
    "## Financial Time Series - Return and Risk"
   ]
  },
  {
   "cell_type": "code",
   "execution_count": null,
   "metadata": {},
   "outputs": [],
   "source": [
    "import numpy as np"
   ]
  },
  {
   "cell_type": "code",
   "execution_count": null,
   "metadata": {},
   "outputs": [],
   "source": [
    "norm.plot(figsize = (15, 8 ), fontsize = 13)\n",
    "plt.legend(fontsize = 13)\n",
    "plt.show()"
   ]
  },
  {
   "cell_type": "code",
   "execution_count": null,
   "metadata": {},
   "outputs": [],
   "source": [
    "close.head()"
   ]
  },
  {
   "cell_type": "code",
   "execution_count": null,
   "metadata": {
    "scrolled": true
   },
   "outputs": [],
   "source": [
    "close.pct_change().dropna()"
   ]
  },
  {
   "cell_type": "code",
   "execution_count": null,
   "metadata": {},
   "outputs": [],
   "source": [
    "ret = close.pct_change().dropna()"
   ]
  },
  {
   "cell_type": "code",
   "execution_count": null,
   "metadata": {},
   "outputs": [],
   "source": [
    "ret.head()"
   ]
  },
  {
   "cell_type": "code",
   "execution_count": null,
   "metadata": {
    "scrolled": true
   },
   "outputs": [],
   "source": [
    "ret.describe().T.loc[:, [\"mean\", \"std\"]]"
   ]
  },
  {
   "cell_type": "code",
   "execution_count": null,
   "metadata": {
    "scrolled": true
   },
   "outputs": [],
   "source": [
    "summary = ret.describe().T.loc[:, [\"mean\", \"std\"]]\n",
    "summary"
   ]
  },
  {
   "cell_type": "code",
   "execution_count": null,
   "metadata": {},
   "outputs": [],
   "source": [
    "summary[\"mean\"] = summary[\"mean\"]*252\n",
    "summary[\"std\"] = summary[\"std\"] * np.sqrt(252)"
   ]
  },
  {
   "cell_type": "code",
   "execution_count": null,
   "metadata": {
    "scrolled": true
   },
   "outputs": [],
   "source": [
    "summary"
   ]
  },
  {
   "cell_type": "code",
   "execution_count": null,
   "metadata": {},
   "outputs": [],
   "source": [
    "summary.plot(kind = \"scatter\", x = \"std\", y = \"mean\", figsize = (15,12), s = 50, fontsize = 15)\n",
    "for i in summary.index:\n",
    "    plt.annotate(i, xy=(summary.loc[i, \"std\"]+0.002, summary.loc[i, \"mean\"]+0.002), size = 15)\n",
    "plt.xlabel(\"ann. Risk(std)\", fontsize = 15)\n",
    "plt.ylabel(\"ann. Return\", fontsize = 15)\n",
    "plt.title(\"Risk/Return\", fontsize = 20)\n",
    "plt.show()"
   ]
  },
  {
   "cell_type": "code",
   "execution_count": null,
   "metadata": {},
   "outputs": [],
   "source": []
  },
  {
   "cell_type": "markdown",
   "metadata": {},
   "source": [
    "## Financial Time Series - Covariance and Correlation"
   ]
  },
  {
   "cell_type": "code",
   "execution_count": null,
   "metadata": {},
   "outputs": [],
   "source": [
    "ret.head()"
   ]
  },
  {
   "cell_type": "code",
   "execution_count": null,
   "metadata": {},
   "outputs": [],
   "source": [
    "ret.cov()"
   ]
  },
  {
   "cell_type": "code",
   "execution_count": null,
   "metadata": {},
   "outputs": [],
   "source": [
    "ret.corr()"
   ]
  },
  {
   "cell_type": "code",
   "execution_count": null,
   "metadata": {},
   "outputs": [],
   "source": [
    "import seaborn as sns"
   ]
  },
  {
   "cell_type": "code",
   "execution_count": null,
   "metadata": {},
   "outputs": [],
   "source": [
    "plt.figure(figsize=(12,8))\n",
    "sns.set(font_scale=1.4)\n",
    "sns.heatmap(ret.corr(), cmap = \"Reds\", annot = True, annot_kws={\"size\":15}, vmax = 0.6)\n",
    "plt.show()"
   ]
  },
  {
   "cell_type": "code",
   "execution_count": null,
   "metadata": {},
   "outputs": [],
   "source": []
  },
  {
   "cell_type": "markdown",
   "metadata": {},
   "source": [
    "## Helpful DatetimeIndex Attributes and Methods"
   ]
  },
  {
   "cell_type": "code",
   "execution_count": null,
   "metadata": {},
   "outputs": [],
   "source": [
    "import pandas as pd"
   ]
  },
  {
   "cell_type": "code",
   "execution_count": null,
   "metadata": {},
   "outputs": [],
   "source": [
    "stocks = pd.read_csv(\"stocks.csv\", header = [0,1], index_col= [0], parse_dates= [0])"
   ]
  },
  {
   "cell_type": "code",
   "execution_count": null,
   "metadata": {},
   "outputs": [],
   "source": [
    "stocks.head()"
   ]
  },
  {
   "cell_type": "code",
   "execution_count": null,
   "metadata": {},
   "outputs": [],
   "source": [
    "close = stocks.loc[:, \"Close\"].copy()"
   ]
  },
  {
   "cell_type": "code",
   "execution_count": null,
   "metadata": {},
   "outputs": [],
   "source": [
    "close.head()"
   ]
  },
  {
   "cell_type": "code",
   "execution_count": null,
   "metadata": {},
   "outputs": [],
   "source": [
    "close.info()"
   ]
  },
  {
   "cell_type": "code",
   "execution_count": null,
   "metadata": {},
   "outputs": [],
   "source": [
    "close.index"
   ]
  },
  {
   "cell_type": "code",
   "execution_count": null,
   "metadata": {},
   "outputs": [],
   "source": [
    "close.index.day"
   ]
  },
  {
   "cell_type": "code",
   "execution_count": null,
   "metadata": {},
   "outputs": [],
   "source": [
    "close.index.month"
   ]
  },
  {
   "cell_type": "code",
   "execution_count": null,
   "metadata": {},
   "outputs": [],
   "source": [
    "close.index.year"
   ]
  },
  {
   "cell_type": "code",
   "execution_count": null,
   "metadata": {},
   "outputs": [],
   "source": [
    "close.index.day_name()"
   ]
  },
  {
   "cell_type": "code",
   "execution_count": null,
   "metadata": {},
   "outputs": [],
   "source": [
    " close.index.weekday_name"
   ]
  },
  {
   "cell_type": "code",
   "execution_count": null,
   "metadata": {},
   "outputs": [],
   "source": [
    "close.index.month_name()"
   ]
  },
  {
   "cell_type": "code",
   "execution_count": null,
   "metadata": {},
   "outputs": [],
   "source": [
    " close.index.weekday"
   ]
  },
  {
   "cell_type": "code",
   "execution_count": null,
   "metadata": {},
   "outputs": [],
   "source": [
    "close.index.quarter"
   ]
  },
  {
   "cell_type": "code",
   "execution_count": null,
   "metadata": {},
   "outputs": [],
   "source": [
    "close.index.days_in_month"
   ]
  },
  {
   "cell_type": "code",
   "execution_count": null,
   "metadata": {},
   "outputs": [],
   "source": [
    "close.index.week"
   ]
  },
  {
   "cell_type": "code",
   "execution_count": null,
   "metadata": {},
   "outputs": [],
   "source": [
    "close.index.weekofyear"
   ]
  },
  {
   "cell_type": "code",
   "execution_count": null,
   "metadata": {
    "scrolled": true
   },
   "outputs": [],
   "source": [
    "close.index.is_month_end"
   ]
  },
  {
   "cell_type": "code",
   "execution_count": null,
   "metadata": {},
   "outputs": [],
   "source": [
    "close[\"Day\"] = stocks.index.day_name()\n",
    "close[\"Quarter\"] = stocks.index.quarter"
   ]
  },
  {
   "cell_type": "code",
   "execution_count": null,
   "metadata": {
    "scrolled": true
   },
   "outputs": [],
   "source": [
    "close.head()"
   ]
  },
  {
   "cell_type": "code",
   "execution_count": null,
   "metadata": {},
   "outputs": [],
   "source": []
  },
  {
   "cell_type": "markdown",
   "metadata": {},
   "source": [
    "## Filling NA Values with bfill, ffill and interpolation"
   ]
  },
  {
   "cell_type": "code",
   "execution_count": null,
   "metadata": {},
   "outputs": [],
   "source": [
    "close.head()"
   ]
  },
  {
   "cell_type": "code",
   "execution_count": null,
   "metadata": {},
   "outputs": [],
   "source": [
    "close.tail()"
   ]
  },
  {
   "cell_type": "code",
   "execution_count": null,
   "metadata": {},
   "outputs": [],
   "source": [
    "all_days = pd.date_range(start = \"2009-12-31\", end = \"2019-02-06\", freq = \"D\")\n",
    "all_days"
   ]
  },
  {
   "cell_type": "code",
   "execution_count": null,
   "metadata": {
    "scrolled": true
   },
   "outputs": [],
   "source": [
    "close = close.reindex(all_days)"
   ]
  },
  {
   "cell_type": "code",
   "execution_count": null,
   "metadata": {},
   "outputs": [],
   "source": [
    "close.head(20)"
   ]
  },
  {
   "cell_type": "code",
   "execution_count": null,
   "metadata": {},
   "outputs": [],
   "source": [
    "close.Day = close.index.weekday_name\n",
    "close.Quarter = close.index.quarter"
   ]
  },
  {
   "cell_type": "code",
   "execution_count": null,
   "metadata": {
    "scrolled": true
   },
   "outputs": [],
   "source": [
    "close.fillna(method = \"ffill\", inplace= True)"
   ]
  },
  {
   "cell_type": "code",
   "execution_count": null,
   "metadata": {},
   "outputs": [],
   "source": [
    "close.head(15)"
   ]
  },
  {
   "cell_type": "code",
   "execution_count": null,
   "metadata": {},
   "outputs": [],
   "source": [
    "temp = pd.read_csv(\"temp.csv\", parse_dates=[\"datetime\"], index_col = \"datetime\")"
   ]
  },
  {
   "cell_type": "code",
   "execution_count": null,
   "metadata": {},
   "outputs": [],
   "source": [
    "temp.head(10)"
   ]
  },
  {
   "cell_type": "code",
   "execution_count": null,
   "metadata": {
    "scrolled": true
   },
   "outputs": [],
   "source": [
    "temp = temp.resample(\"30 Min\").mean()\n",
    "temp.head(10)"
   ]
  },
  {
   "cell_type": "code",
   "execution_count": null,
   "metadata": {
    "scrolled": true
   },
   "outputs": [],
   "source": [
    "temp.interpolate()"
   ]
  },
  {
   "cell_type": "code",
   "execution_count": null,
   "metadata": {},
   "outputs": [],
   "source": []
  }
 ],
 "metadata": {
  "kernelspec": {
   "display_name": "Python 3",
   "language": "python",
   "name": "python3"
  },
  "language_info": {
   "codemirror_mode": {
    "name": "ipython",
    "version": 3
   },
   "file_extension": ".py",
   "mimetype": "text/x-python",
   "name": "python",
   "nbconvert_exporter": "python",
   "pygments_lexer": "ipython3",
   "version": "3.7.3"
  }
 },
 "nbformat": 4,
 "nbformat_minor": 2
}
