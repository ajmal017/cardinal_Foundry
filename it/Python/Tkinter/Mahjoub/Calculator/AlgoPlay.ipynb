{
 "cells": [
  {
   "cell_type": "code",
   "execution_count": 2,
   "metadata": {},
   "outputs": [],
   "source": [
    "from tkinter import *\n",
    "import tkinter.messagebox\n",
    "\n",
    "\n",
    "# ==================================================Settings=====================\n",
    "root = Tk()\n",
    "root.title('Cal')\n",
    "root.geometry(\"400x150\")\n",
    "color = 'gray55'\n",
    "root.configure(bg=color)\n",
    "root.resizable(width=False, height=False)\n",
    "\n",
    "# ==================================================Variables=====================\n",
    "num1 = StringVar()\n",
    "num2 = StringVar()\n",
    "res = StringVar()\n",
    "\n",
    "\n",
    "# ==================================================Frames========================\n",
    "top_first = Frame(root, width=800, height=60, bg=color)\n",
    "top_first.pack(side=TOP)\n",
    "top_second = Frame(root,  width=800, height=60, bg=color)\n",
    "top_second.pack(side=TOP)\n",
    "top_third = Frame(root, width=800, height=60, bg=color)\n",
    "top_third.pack(side=TOP)\n",
    "top_fourth = Frame(root, width=800, height=60, bg=color)\n",
    "top_fourth.pack(side=TOP)\n",
    "\n",
    "# ==================================================Functions======================\n",
    "\n",
    "\n",
    "def errorMsg(msg):\n",
    "    if msg == 'error':\n",
    "        tkinter.messagebox.showerror('Error!', 'Something went wrong! Maybe invalid entries')\n",
    "    elif msg == 'divisionerror':\n",
    "        tkinter.messagebox.showerror('Division Error', 'Cannot divide by 0')\n",
    "\n",
    "\n",
    "def plus():\n",
    "    try:\n",
    "        value = float(num1.get()) + float(num2.get())\n",
    "        res.set(value)\n",
    "    except:\n",
    "        errorMsg('error')\n",
    "\n",
    "\n",
    "def minus():\n",
    "    try:\n",
    "        value = float(num1.get()) - float(num2.get())\n",
    "        res.set(value)\n",
    "    except:\n",
    "        errorMsg('error')\n",
    "\n",
    "\n",
    "def mul():\n",
    "    try:\n",
    "        value = float(num1.get()) * float(num2.get())\n",
    "        res.set(value)\n",
    "    except:\n",
    "        errorMsg('error')\n",
    "\n",
    "\n",
    "def div():\n",
    "    # checks if user is trying to divide by zero\n",
    "    if num2.get() == '0':\n",
    "        errorMsg('divisionerror')\n",
    "    elif num2.get() != '0':\n",
    "        try:\n",
    "            value = float(num1.get()) / float(num2.get())\n",
    "            res.set(value)\n",
    "        except:\n",
    "            errorMsg('error')\n",
    "\n",
    "# ==================================================Button=================\n",
    "\n",
    "\n",
    "btn_plus = Button(top_third, text=\"+\", width=8, command=plus, highlightbackground=color)\n",
    "btn_plus.pack(side=LEFT,  padx=5, pady=5)\n",
    "\n",
    "btn_minus = Button(top_third, text=\"-\", width=8, command=minus, highlightbackground=color)\n",
    "btn_minus.pack(side=LEFT,  padx=5, pady=5)\n",
    "\n",
    "btn_mul = Button(top_third, text=\"*\", width=8, command=mul, highlightbackground=color)\n",
    "btn_mul.pack(side=LEFT,  padx=5, pady=5)\n",
    "\n",
    "btn_div = Button(top_third, text=\"/\", width=8, command=div, highlightbackground=color)\n",
    "btn_div.pack(side=LEFT,  padx=5, pady=5)\n",
    "\n",
    "# ==================================================Entry+Labels================\n",
    "\n",
    "\n",
    "label_first_num = Label(top_first, text=\"Input Number 1 :\", bg=color)\n",
    "label_first_num.pack(side=LEFT, padx=5, pady=5)\n",
    "first_num = Entry(top_first, textvariable=num1, highlightbackground=color)\n",
    "first_num.pack(side=LEFT)\n",
    "\n",
    "label_second_num = Label(top_second, text=\"Input Number 2 :\", bg=color)\n",
    "label_second_num.pack(side=LEFT, padx=5, pady=5)\n",
    "second_num = Entry(top_second, textvariable=num2, highlightbackground=color)\n",
    "second_num.pack(side=LEFT)\n",
    "\n",
    "\n",
    "label_third_num = Label(top_fourth, text=\"Result :\", bg=color)\n",
    "label_third_num.pack(side=LEFT, padx=5, pady=5)\n",
    "\n",
    "result = Entry(top_fourth, textvariable=res, highlightbackground=color)\n",
    "result.pack(side=LEFT)\n",
    "\n",
    "root.mainloop()\n",
    "\n",
    "\n",
    "\n",
    "\n",
    "\n",
    "\n"
   ]
  },
  {
   "cell_type": "code",
   "execution_count": 10,
   "metadata": {},
   "outputs": [
    {
     "ename": "KeyboardInterrupt",
     "evalue": "",
     "output_type": "error",
     "traceback": [
      "\u001b[1;31m---------------------------------------------------------------------------\u001b[0m",
      "\u001b[1;31mKeyboardInterrupt\u001b[0m                         Traceback (most recent call last)",
      "\u001b[1;32m<ipython-input-10-9f2f2f5046cf>\u001b[0m in \u001b[0;36m<module>\u001b[1;34m\u001b[0m\n\u001b[0;32m     12\u001b[0m \u001b[1;33m\u001b[0m\u001b[0m\n\u001b[0;32m     13\u001b[0m \u001b[1;33m\u001b[0m\u001b[0m\n\u001b[1;32m---> 14\u001b[1;33m \u001b[0malgoPlay\u001b[0m\u001b[1;33m.\u001b[0m\u001b[0mmainloop\u001b[0m\u001b[1;33m(\u001b[0m\u001b[1;33m)\u001b[0m\u001b[1;33m\u001b[0m\u001b[1;33m\u001b[0m\u001b[0m\n\u001b[0m",
      "\u001b[1;32m~\\Anaconda3\\lib\\tkinter\\__init__.py\u001b[0m in \u001b[0;36mmainloop\u001b[1;34m(self, n)\u001b[0m\n\u001b[0;32m   1281\u001b[0m     \u001b[1;32mdef\u001b[0m \u001b[0mmainloop\u001b[0m\u001b[1;33m(\u001b[0m\u001b[0mself\u001b[0m\u001b[1;33m,\u001b[0m \u001b[0mn\u001b[0m\u001b[1;33m=\u001b[0m\u001b[1;36m0\u001b[0m\u001b[1;33m)\u001b[0m\u001b[1;33m:\u001b[0m\u001b[1;33m\u001b[0m\u001b[1;33m\u001b[0m\u001b[0m\n\u001b[0;32m   1282\u001b[0m         \u001b[1;34m\"\"\"Call the mainloop of Tk.\"\"\"\u001b[0m\u001b[1;33m\u001b[0m\u001b[1;33m\u001b[0m\u001b[0m\n\u001b[1;32m-> 1283\u001b[1;33m         \u001b[0mself\u001b[0m\u001b[1;33m.\u001b[0m\u001b[0mtk\u001b[0m\u001b[1;33m.\u001b[0m\u001b[0mmainloop\u001b[0m\u001b[1;33m(\u001b[0m\u001b[0mn\u001b[0m\u001b[1;33m)\u001b[0m\u001b[1;33m\u001b[0m\u001b[1;33m\u001b[0m\u001b[0m\n\u001b[0m\u001b[0;32m   1284\u001b[0m     \u001b[1;32mdef\u001b[0m \u001b[0mquit\u001b[0m\u001b[1;33m(\u001b[0m\u001b[0mself\u001b[0m\u001b[1;33m)\u001b[0m\u001b[1;33m:\u001b[0m\u001b[1;33m\u001b[0m\u001b[1;33m\u001b[0m\u001b[0m\n\u001b[0;32m   1285\u001b[0m         \u001b[1;34m\"\"\"Quit the Tcl interpreter. All widgets will be destroyed.\"\"\"\u001b[0m\u001b[1;33m\u001b[0m\u001b[1;33m\u001b[0m\u001b[0m\n",
      "\u001b[1;31mKeyboardInterrupt\u001b[0m: "
     ]
    }
   ],
   "source": []
  },
  {
   "cell_type": "code",
   "execution_count": 4,
   "metadata": {},
   "outputs": [],
   "source": [
    "def factf(n):\n",
    "    if n == 0:\n",
    "        return 1\n",
    "    else:\n",
    "        return n * factf(n-1)"
   ]
  },
  {
   "cell_type": "code",
   "execution_count": 6,
   "metadata": {},
   "outputs": [
    {
     "data": {
      "text/plain": [
       "120"
      ]
     },
     "execution_count": 6,
     "metadata": {},
     "output_type": "execute_result"
    }
   ],
   "source": [
    "factf(5)"
   ]
  },
  {
   "cell_type": "code",
   "execution_count": null,
   "metadata": {},
   "outputs": [],
   "source": []
  }
 ],
 "metadata": {
  "kernelspec": {
   "display_name": "Python 3",
   "language": "python",
   "name": "python3"
  },
  "language_info": {
   "codemirror_mode": {
    "name": "ipython",
    "version": 3
   },
   "file_extension": ".py",
   "mimetype": "text/x-python",
   "name": "python",
   "nbconvert_exporter": "python",
   "pygments_lexer": "ipython3",
   "version": "3.7.3"
  }
 },
 "nbformat": 4,
 "nbformat_minor": 2
}
