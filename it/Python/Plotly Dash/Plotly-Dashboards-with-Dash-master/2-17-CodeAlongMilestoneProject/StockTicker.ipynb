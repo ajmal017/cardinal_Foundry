{
 "cells": [
  {
   "cell_type": "code",
   "execution_count": 5,
   "metadata": {},
   "outputs": [
    {
     "name": "stdout",
     "output_type": "stream",
     "text": [
      " * Serving Flask app \"__main__\" (lazy loading)\n",
      " * Environment: production\n",
      "   WARNING: This is a development server. Do not use it in a production deployment.\n",
      "   Use a production WSGI server instead.\n",
      " * Debug mode: off\n"
     ]
    },
    {
     "name": "stderr",
     "output_type": "stream",
     "text": [
      " * Running on http://127.0.0.1:8050/ (Press CTRL+C to quit)\n",
      "127.0.0.1 - - [31/Jan/2020 21:01:55] \"GET / HTTP/1.1\" 200 -\n",
      "127.0.0.1 - - [31/Jan/2020 21:01:57] \"GET /_dash-layout HTTP/1.1\" 200 -\n",
      "127.0.0.1 - - [31/Jan/2020 21:01:57] \"GET /_dash-dependencies HTTP/1.1\" 200 -\n",
      "127.0.0.1 - - [31/Jan/2020 21:01:58] \"GET /_favicon.ico?v=1.7.0 HTTP/1.1\" 200 -\n",
      "127.0.0.1 - - [31/Jan/2020 21:03:08] \"GET / HTTP/1.1\" 200 -\n",
      "127.0.0.1 - - [31/Jan/2020 21:03:09] \"GET /_dash-layout HTTP/1.1\" 200 -\n",
      "127.0.0.1 - - [31/Jan/2020 21:03:09] \"GET /_dash-dependencies HTTP/1.1\" 200 -\n",
      "127.0.0.1 - - [31/Jan/2020 21:03:10] \"GET /_favicon.ico?v=1.7.0 HTTP/1.1\" 200 -\n"
     ]
    }
   ],
   "source": [
    "import dash\n",
    "import dash_core_components as dcc\n",
    "import dash_html_components as html\n",
    "\n",
    "app = dash.Dash()\n",
    "\n",
    "app.layout = html.Div([\n",
    "    html.H1('Stock Ticker Dashboard'),\n",
    "    html.H3('Enter a stock symbol:'),\n",
    "    dcc.Input( id='my_stock_ticker',value='TSLA' # sets a default value\n",
    "             )\n",
    "  #  dcc.Graph(\n",
    "      #  id='my_graph'\n",
    "      #  figure={\n",
    "          #  'data': [\n",
    "           #     {'x': [1,2], 'y': [3,1]}\n",
    "          #  ]\n",
    "       # }\n",
    "   # )\n",
    "])\n",
    "\n",
    "if __name__ == '__main__':\n",
    "    app.run_server()"
   ]
  },
  {
   "cell_type": "code",
   "execution_count": null,
   "metadata": {},
   "outputs": [],
   "source": []
  }
 ],
 "metadata": {
  "kernelspec": {
   "display_name": "Python 3",
   "language": "python",
   "name": "python3"
  },
  "language_info": {
   "codemirror_mode": {
    "name": "ipython",
    "version": 3
   },
   "file_extension": ".py",
   "mimetype": "text/x-python",
   "name": "python",
   "nbconvert_exporter": "python",
   "pygments_lexer": "ipython3",
   "version": "3.7.4"
  }
 },
 "nbformat": 4,
 "nbformat_minor": 2
}
