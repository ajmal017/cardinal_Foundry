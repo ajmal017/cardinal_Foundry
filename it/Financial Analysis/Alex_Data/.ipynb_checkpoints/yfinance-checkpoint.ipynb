{
 "cells": [
  {
   "cell_type": "markdown",
   "metadata": {
    "colab_type": "text",
    "id": "f3445qnFnK2t"
   },
   "source": [
    "# Importing Data from Yahoo Finance with yfinance"
   ]
  },
  {
   "cell_type": "markdown",
   "metadata": {
    "colab_type": "text",
    "id": "liasTytwnK24"
   },
   "source": [
    "## Historical Price & Volume Data for one Stock"
   ]
  },
  {
   "cell_type": "code",
   "execution_count": 2,
   "metadata": {
    "colab": {
     "base_uri": "https://localhost:8080/",
     "height": 326
    },
    "colab_type": "code",
    "executionInfo": {
     "elapsed": 1348,
     "status": "error",
     "timestamp": 1580307252856,
     "user": {
      "displayName": "Harshraj Rathore",
      "photoUrl": "https://lh3.googleusercontent.com/a-/AAuE7mDnWtATvH5CAGD-bJ-zFyz9FM2oQU99F6HP7t6kNQ=s64",
      "userId": "06617555219517821832"
     },
     "user_tz": 0
    },
    "id": "hGcSegCznK29",
    "outputId": "3f486caa-6a4e-4c47-8e28-aa7fab276945"
   },
   "outputs": [],
   "source": [
    "import pandas as pd\n",
    "import yfinance as yf"
   ]
  },
  {
   "cell_type": "code",
   "execution_count": 3,
   "metadata": {
    "colab": {},
    "colab_type": "code",
    "id": "2hz0_3YTnK3S"
   },
   "outputs": [],
   "source": [
    "ticker = \"GE\""
   ]
  },
  {
   "cell_type": "code",
   "execution_count": 4,
   "metadata": {
    "colab": {},
    "colab_type": "code",
    "id": "06to56hVnK3f",
    "scrolled": true
   },
   "outputs": [
    {
     "name": "stdout",
     "output_type": "stream",
     "text": [
      "[*********************100%***********************]  1 of 1 completed\n"
     ]
    },
    {
     "data": {
      "text/html": [
       "<div>\n",
       "<style scoped>\n",
       "    .dataframe tbody tr th:only-of-type {\n",
       "        vertical-align: middle;\n",
       "    }\n",
       "\n",
       "    .dataframe tbody tr th {\n",
       "        vertical-align: top;\n",
       "    }\n",
       "\n",
       "    .dataframe thead th {\n",
       "        text-align: right;\n",
       "    }\n",
       "</style>\n",
       "<table border=\"1\" class=\"dataframe\">\n",
       "  <thead>\n",
       "    <tr style=\"text-align: right;\">\n",
       "      <th></th>\n",
       "      <th>Open</th>\n",
       "      <th>High</th>\n",
       "      <th>Low</th>\n",
       "      <th>Close</th>\n",
       "      <th>Adj Close</th>\n",
       "      <th>Volume</th>\n",
       "    </tr>\n",
       "    <tr>\n",
       "      <th>Date</th>\n",
       "      <th></th>\n",
       "      <th></th>\n",
       "      <th></th>\n",
       "      <th></th>\n",
       "      <th></th>\n",
       "      <th></th>\n",
       "    </tr>\n",
       "  </thead>\n",
       "  <tbody>\n",
       "    <tr>\n",
       "      <td>1962-01-02</td>\n",
       "      <td>0.751202</td>\n",
       "      <td>0.763722</td>\n",
       "      <td>0.743690</td>\n",
       "      <td>0.748698</td>\n",
       "      <td>0.001783</td>\n",
       "      <td>2156500</td>\n",
       "    </tr>\n",
       "    <tr>\n",
       "      <td>1962-01-03</td>\n",
       "      <td>0.744942</td>\n",
       "      <td>0.744942</td>\n",
       "      <td>0.738682</td>\n",
       "      <td>0.741186</td>\n",
       "      <td>0.001765</td>\n",
       "      <td>1477600</td>\n",
       "    </tr>\n",
       "    <tr>\n",
       "      <td>1962-01-04</td>\n",
       "      <td>0.741186</td>\n",
       "      <td>0.747446</td>\n",
       "      <td>0.726162</td>\n",
       "      <td>0.732422</td>\n",
       "      <td>0.001745</td>\n",
       "      <td>1837000</td>\n",
       "    </tr>\n",
       "    <tr>\n",
       "      <td>1962-01-05</td>\n",
       "      <td>0.732422</td>\n",
       "      <td>0.733674</td>\n",
       "      <td>0.701122</td>\n",
       "      <td>0.713642</td>\n",
       "      <td>0.001700</td>\n",
       "      <td>2725600</td>\n",
       "    </tr>\n",
       "    <tr>\n",
       "      <td>1962-01-08</td>\n",
       "      <td>0.713642</td>\n",
       "      <td>0.713642</td>\n",
       "      <td>0.691106</td>\n",
       "      <td>0.712390</td>\n",
       "      <td>0.001697</td>\n",
       "      <td>3095000</td>\n",
       "    </tr>\n",
       "    <tr>\n",
       "      <td>...</td>\n",
       "      <td>...</td>\n",
       "      <td>...</td>\n",
       "      <td>...</td>\n",
       "      <td>...</td>\n",
       "      <td>...</td>\n",
       "      <td>...</td>\n",
       "    </tr>\n",
       "    <tr>\n",
       "      <td>2020-01-27</td>\n",
       "      <td>11.450000</td>\n",
       "      <td>11.590000</td>\n",
       "      <td>11.380000</td>\n",
       "      <td>11.440000</td>\n",
       "      <td>11.440000</td>\n",
       "      <td>47862600</td>\n",
       "    </tr>\n",
       "    <tr>\n",
       "      <td>2020-01-28</td>\n",
       "      <td>11.520000</td>\n",
       "      <td>11.820000</td>\n",
       "      <td>11.470000</td>\n",
       "      <td>11.730000</td>\n",
       "      <td>11.730000</td>\n",
       "      <td>62928600</td>\n",
       "    </tr>\n",
       "    <tr>\n",
       "      <td>2020-01-29</td>\n",
       "      <td>12.570000</td>\n",
       "      <td>13.000000</td>\n",
       "      <td>12.490000</td>\n",
       "      <td>12.940000</td>\n",
       "      <td>12.940000</td>\n",
       "      <td>220689300</td>\n",
       "    </tr>\n",
       "    <tr>\n",
       "      <td>2020-01-30</td>\n",
       "      <td>12.890000</td>\n",
       "      <td>12.990000</td>\n",
       "      <td>12.500000</td>\n",
       "      <td>12.730000</td>\n",
       "      <td>12.730000</td>\n",
       "      <td>95469300</td>\n",
       "    </tr>\n",
       "    <tr>\n",
       "      <td>2020-01-31</td>\n",
       "      <td>12.680000</td>\n",
       "      <td>12.740000</td>\n",
       "      <td>12.340000</td>\n",
       "      <td>12.450000</td>\n",
       "      <td>12.450000</td>\n",
       "      <td>77930400</td>\n",
       "    </tr>\n",
       "  </tbody>\n",
       "</table>\n",
       "<p>14621 rows × 6 columns</p>\n",
       "</div>"
      ],
      "text/plain": [
       "                 Open       High        Low      Close  Adj Close     Volume\n",
       "Date                                                                        \n",
       "1962-01-02   0.751202   0.763722   0.743690   0.748698   0.001783    2156500\n",
       "1962-01-03   0.744942   0.744942   0.738682   0.741186   0.001765    1477600\n",
       "1962-01-04   0.741186   0.747446   0.726162   0.732422   0.001745    1837000\n",
       "1962-01-05   0.732422   0.733674   0.701122   0.713642   0.001700    2725600\n",
       "1962-01-08   0.713642   0.713642   0.691106   0.712390   0.001697    3095000\n",
       "...               ...        ...        ...        ...        ...        ...\n",
       "2020-01-27  11.450000  11.590000  11.380000  11.440000  11.440000   47862600\n",
       "2020-01-28  11.520000  11.820000  11.470000  11.730000  11.730000   62928600\n",
       "2020-01-29  12.570000  13.000000  12.490000  12.940000  12.940000  220689300\n",
       "2020-01-30  12.890000  12.990000  12.500000  12.730000  12.730000   95469300\n",
       "2020-01-31  12.680000  12.740000  12.340000  12.450000  12.450000   77930400\n",
       "\n",
       "[14621 rows x 6 columns]"
      ]
     },
     "execution_count": 4,
     "metadata": {},
     "output_type": "execute_result"
    }
   ],
   "source": [
    "yf.download(ticker)"
   ]
  },
  {
   "cell_type": "code",
   "execution_count": 5,
   "metadata": {
    "colab": {},
    "colab_type": "code",
    "id": "xHo60EI5nK3r"
   },
   "outputs": [
    {
     "name": "stdout",
     "output_type": "stream",
     "text": [
      "[*********************100%***********************]  1 of 1 completed\n"
     ]
    }
   ],
   "source": [
    "GE = yf.download(ticker)"
   ]
  },
  {
   "cell_type": "code",
   "execution_count": 6,
   "metadata": {
    "colab": {},
    "colab_type": "code",
    "id": "ZugHATiNnK3y"
   },
   "outputs": [
    {
     "data": {
      "text/html": [
       "<div>\n",
       "<style scoped>\n",
       "    .dataframe tbody tr th:only-of-type {\n",
       "        vertical-align: middle;\n",
       "    }\n",
       "\n",
       "    .dataframe tbody tr th {\n",
       "        vertical-align: top;\n",
       "    }\n",
       "\n",
       "    .dataframe thead th {\n",
       "        text-align: right;\n",
       "    }\n",
       "</style>\n",
       "<table border=\"1\" class=\"dataframe\">\n",
       "  <thead>\n",
       "    <tr style=\"text-align: right;\">\n",
       "      <th></th>\n",
       "      <th>Open</th>\n",
       "      <th>High</th>\n",
       "      <th>Low</th>\n",
       "      <th>Close</th>\n",
       "      <th>Adj Close</th>\n",
       "      <th>Volume</th>\n",
       "    </tr>\n",
       "    <tr>\n",
       "      <th>Date</th>\n",
       "      <th></th>\n",
       "      <th></th>\n",
       "      <th></th>\n",
       "      <th></th>\n",
       "      <th></th>\n",
       "      <th></th>\n",
       "    </tr>\n",
       "  </thead>\n",
       "  <tbody>\n",
       "    <tr>\n",
       "      <td>1962-01-02</td>\n",
       "      <td>0.751202</td>\n",
       "      <td>0.763722</td>\n",
       "      <td>0.743690</td>\n",
       "      <td>0.748698</td>\n",
       "      <td>0.001783</td>\n",
       "      <td>2156500</td>\n",
       "    </tr>\n",
       "    <tr>\n",
       "      <td>1962-01-03</td>\n",
       "      <td>0.744942</td>\n",
       "      <td>0.744942</td>\n",
       "      <td>0.738682</td>\n",
       "      <td>0.741186</td>\n",
       "      <td>0.001765</td>\n",
       "      <td>1477600</td>\n",
       "    </tr>\n",
       "    <tr>\n",
       "      <td>1962-01-04</td>\n",
       "      <td>0.741186</td>\n",
       "      <td>0.747446</td>\n",
       "      <td>0.726162</td>\n",
       "      <td>0.732422</td>\n",
       "      <td>0.001745</td>\n",
       "      <td>1837000</td>\n",
       "    </tr>\n",
       "    <tr>\n",
       "      <td>1962-01-05</td>\n",
       "      <td>0.732422</td>\n",
       "      <td>0.733674</td>\n",
       "      <td>0.701122</td>\n",
       "      <td>0.713642</td>\n",
       "      <td>0.001700</td>\n",
       "      <td>2725600</td>\n",
       "    </tr>\n",
       "    <tr>\n",
       "      <td>1962-01-08</td>\n",
       "      <td>0.713642</td>\n",
       "      <td>0.713642</td>\n",
       "      <td>0.691106</td>\n",
       "      <td>0.712390</td>\n",
       "      <td>0.001697</td>\n",
       "      <td>3095000</td>\n",
       "    </tr>\n",
       "  </tbody>\n",
       "</table>\n",
       "</div>"
      ],
      "text/plain": [
       "                Open      High       Low     Close  Adj Close   Volume\n",
       "Date                                                                  \n",
       "1962-01-02  0.751202  0.763722  0.743690  0.748698   0.001783  2156500\n",
       "1962-01-03  0.744942  0.744942  0.738682  0.741186   0.001765  1477600\n",
       "1962-01-04  0.741186  0.747446  0.726162  0.732422   0.001745  1837000\n",
       "1962-01-05  0.732422  0.733674  0.701122  0.713642   0.001700  2725600\n",
       "1962-01-08  0.713642  0.713642  0.691106  0.712390   0.001697  3095000"
      ]
     },
     "execution_count": 6,
     "metadata": {},
     "output_type": "execute_result"
    }
   ],
   "source": [
    "GE.head()"
   ]
  },
  {
   "cell_type": "code",
   "execution_count": 0,
   "metadata": {
    "colab": {},
    "colab_type": "code",
    "id": "PKl-F3d9nK34"
   },
   "outputs": [],
   "source": [
    "GE.tail()"
   ]
  },
  {
   "cell_type": "code",
   "execution_count": 0,
   "metadata": {
    "colab": {},
    "colab_type": "code",
    "id": "pfmh1UeinK3_"
   },
   "outputs": [],
   "source": []
  },
  {
   "cell_type": "markdown",
   "metadata": {
    "colab_type": "text",
    "id": "8NEIaG9fnK4E"
   },
   "source": [
    "## Setting specific Time Periods"
   ]
  },
  {
   "cell_type": "code",
   "execution_count": 0,
   "metadata": {
    "colab": {},
    "colab_type": "code",
    "id": "5f79p9w8nK4G"
   },
   "outputs": [],
   "source": [
    "import pandas as pd\n",
    "import yfinance as yf"
   ]
  },
  {
   "cell_type": "code",
   "execution_count": 0,
   "metadata": {
    "colab": {},
    "colab_type": "code",
    "id": "RxlISS5vnK4L"
   },
   "outputs": [],
   "source": [
    "ticker = \"GE\""
   ]
  },
  {
   "cell_type": "code",
   "execution_count": 0,
   "metadata": {
    "colab": {},
    "colab_type": "code",
    "id": "qFuBB0pinK4R",
    "scrolled": true
   },
   "outputs": [],
   "source": [
    "yf.download(ticker, start = \"2014-01-01\", end = \"2018-12-31\")"
   ]
  },
  {
   "cell_type": "code",
   "execution_count": 0,
   "metadata": {
    "colab": {},
    "colab_type": "code",
    "id": "WRytGSFInK4W"
   },
   "outputs": [],
   "source": [
    "GE = yf.download(ticker, start = \"2014-01-01\", end = \"2018-12-31\")"
   ]
  },
  {
   "cell_type": "code",
   "execution_count": 0,
   "metadata": {
    "colab": {},
    "colab_type": "code",
    "id": "SeiPM1tanK4c"
   },
   "outputs": [],
   "source": [
    "GE.info()"
   ]
  },
  {
   "cell_type": "code",
   "execution_count": 0,
   "metadata": {
    "colab": {},
    "colab_type": "code",
    "id": "or0WoCswnK4g",
    "scrolled": true
   },
   "outputs": [],
   "source": [
    "yf.download(ticker, period  = \"ytd\")"
   ]
  },
  {
   "cell_type": "code",
   "execution_count": 0,
   "metadata": {
    "colab": {},
    "colab_type": "code",
    "id": "PniUBeqKnK4l",
    "scrolled": true
   },
   "outputs": [],
   "source": [
    "yf.download(ticker, period  = \"1mo\")"
   ]
  },
  {
   "cell_type": "code",
   "execution_count": 0,
   "metadata": {
    "colab": {},
    "colab_type": "code",
    "id": "ue4yQeRXnK4q"
   },
   "outputs": [],
   "source": [
    "yf.download(ticker, period  = \"5d\")"
   ]
  },
  {
   "cell_type": "code",
   "execution_count": 0,
   "metadata": {
    "colab": {},
    "colab_type": "code",
    "id": "5uhMBQSLnK4v",
    "scrolled": true
   },
   "outputs": [],
   "source": [
    "yf.download(ticker, period  = \"10y\")"
   ]
  },
  {
   "cell_type": "code",
   "execution_count": 0,
   "metadata": {
    "colab": {},
    "colab_type": "code",
    "id": "sPOqZcoInK40"
   },
   "outputs": [],
   "source": []
  },
  {
   "cell_type": "markdown",
   "metadata": {
    "colab_type": "text",
    "id": "KyX83ISwnK43"
   },
   "source": [
    "## Frequency Settings (Intraday)"
   ]
  },
  {
   "cell_type": "code",
   "execution_count": 0,
   "metadata": {
    "colab": {},
    "colab_type": "code",
    "id": "w7EvdQ5vnK45"
   },
   "outputs": [],
   "source": [
    "import pandas as pd\n",
    "import yfinance as yf"
   ]
  },
  {
   "cell_type": "code",
   "execution_count": 0,
   "metadata": {
    "colab": {},
    "colab_type": "code",
    "id": "KAeYzMvrnK4_"
   },
   "outputs": [],
   "source": [
    "ticker = \"GE\""
   ]
  },
  {
   "cell_type": "code",
   "execution_count": 0,
   "metadata": {
    "colab": {},
    "colab_type": "code",
    "id": "Rsdep1i_nK5C",
    "scrolled": true
   },
   "outputs": [],
   "source": [
    "yf.download(ticker, period  = \"1mo\", interval = \"1h\")"
   ]
  },
  {
   "cell_type": "code",
   "execution_count": 0,
   "metadata": {
    "colab": {},
    "colab_type": "code",
    "id": "gffDuMT3nK5J",
    "scrolled": true
   },
   "outputs": [],
   "source": [
    "yf.download(ticker, period  = \"1mo\", interval = \"30m\")"
   ]
  },
  {
   "cell_type": "code",
   "execution_count": 0,
   "metadata": {
    "colab": {},
    "colab_type": "code",
    "id": "Sobj-UVznK5L",
    "scrolled": true
   },
   "outputs": [],
   "source": [
    "yf.download(ticker, period  = \"1mo\", interval = \"5m\")"
   ]
  },
  {
   "cell_type": "code",
   "execution_count": 0,
   "metadata": {
    "colab": {},
    "colab_type": "code",
    "id": "VCymUOqTnK5O"
   },
   "outputs": [],
   "source": [
    "yf.download(ticker, period  = \"1mo\", interval = \"1m\")"
   ]
  },
  {
   "cell_type": "code",
   "execution_count": 0,
   "metadata": {
    "colab": {},
    "colab_type": "code",
    "id": "wgFIYXTEnK5Q",
    "scrolled": true
   },
   "outputs": [],
   "source": [
    "yf.download(ticker, period  = \"5d\", interval = \"1m\")"
   ]
  },
  {
   "cell_type": "code",
   "execution_count": 0,
   "metadata": {
    "colab": {},
    "colab_type": "code",
    "id": "R47q-AYUnK5T"
   },
   "outputs": [],
   "source": [
    "GE = yf.download(ticker, period  = \"5d\", interval = \"1m\")"
   ]
  },
  {
   "cell_type": "code",
   "execution_count": 0,
   "metadata": {
    "colab": {},
    "colab_type": "code",
    "id": "4JovbvTRnK5W"
   },
   "outputs": [],
   "source": [
    "GE.head(10)"
   ]
  },
  {
   "cell_type": "code",
   "execution_count": 0,
   "metadata": {
    "colab": {},
    "colab_type": "code",
    "id": "np8xXEeznK5Z"
   },
   "outputs": [],
   "source": [
    "GE.describe()"
   ]
  },
  {
   "cell_type": "code",
   "execution_count": 0,
   "metadata": {
    "colab": {},
    "colab_type": "code",
    "id": "6g_2RUBXnK5d",
    "scrolled": true
   },
   "outputs": [],
   "source": [
    "yf.download(ticker, period  = \"5d\", prepost= True, interval = \"30m\")"
   ]
  },
  {
   "cell_type": "code",
   "execution_count": 0,
   "metadata": {
    "colab": {},
    "colab_type": "code",
    "id": "rCWSLq0VnK5g"
   },
   "outputs": [],
   "source": []
  },
  {
   "cell_type": "markdown",
   "metadata": {
    "colab_type": "text",
    "id": "jZ2bkUU0nK5k"
   },
   "source": [
    "## Stock Splits and Dividends"
   ]
  },
  {
   "cell_type": "code",
   "execution_count": 0,
   "metadata": {
    "colab": {},
    "colab_type": "code",
    "id": "_HGZBnt0nK5l"
   },
   "outputs": [],
   "source": [
    "import pandas as pd\n",
    "import yfinance as yf"
   ]
  },
  {
   "cell_type": "code",
   "execution_count": 0,
   "metadata": {
    "colab": {},
    "colab_type": "code",
    "id": "QM7lpZzXnK5s"
   },
   "outputs": [],
   "source": [
    "ticker = \"AAPL\""
   ]
  },
  {
   "cell_type": "code",
   "execution_count": 0,
   "metadata": {
    "colab": {},
    "colab_type": "code",
    "id": "x_1PJ_QAnK5y"
   },
   "outputs": [],
   "source": [
    "AAPL = yf.download(ticker, period  = \"10y\", actions = True)"
   ]
  },
  {
   "cell_type": "code",
   "execution_count": 0,
   "metadata": {
    "colab": {},
    "colab_type": "code",
    "id": "LsaEoSjYnK51",
    "scrolled": true
   },
   "outputs": [],
   "source": [
    "AAPL"
   ]
  },
  {
   "cell_type": "code",
   "execution_count": 0,
   "metadata": {
    "colab": {},
    "colab_type": "code",
    "id": "pN3dncCqnK53",
    "scrolled": true
   },
   "outputs": [],
   "source": [
    "AAPL[AAPL[\"Dividends\"] > 0]"
   ]
  },
  {
   "cell_type": "code",
   "execution_count": 0,
   "metadata": {
    "colab": {},
    "colab_type": "code",
    "id": "dSd822hwnK6C"
   },
   "outputs": [],
   "source": [
    "AAPL.loc[\"2019-08-05\":\"2019-08-15\"]"
   ]
  },
  {
   "cell_type": "code",
   "execution_count": 0,
   "metadata": {
    "colab": {},
    "colab_type": "code",
    "id": "_x3AJ8oEnK6F"
   },
   "outputs": [],
   "source": [
    "AAPL.loc[\"2019-08-05\":\"2019-08-15\"].diff()"
   ]
  },
  {
   "cell_type": "code",
   "execution_count": 0,
   "metadata": {
    "colab": {},
    "colab_type": "code",
    "id": "_0ErKJKBnK6I",
    "scrolled": true
   },
   "outputs": [],
   "source": [
    "AAPL[AAPL[\"Stock Splits\"] > 0]"
   ]
  },
  {
   "cell_type": "code",
   "execution_count": 0,
   "metadata": {
    "colab": {},
    "colab_type": "code",
    "id": "mxU59XawnK6K"
   },
   "outputs": [],
   "source": [
    "AAPL.loc[\"2014-06-05\":\"2014-06-15\"]"
   ]
  },
  {
   "cell_type": "code",
   "execution_count": 0,
   "metadata": {
    "colab": {},
    "colab_type": "code",
    "id": "bJlSjxGhnK6M"
   },
   "outputs": [],
   "source": []
  },
  {
   "cell_type": "markdown",
   "metadata": {
    "colab_type": "text",
    "id": "UA5oZQStnK6U"
   },
   "source": [
    "## Exporting to CSV/Excel"
   ]
  },
  {
   "cell_type": "code",
   "execution_count": 0,
   "metadata": {
    "colab": {},
    "colab_type": "code",
    "id": "bHoRVQ72nK6V"
   },
   "outputs": [],
   "source": [
    "import pandas as pd\n",
    "import yfinance as yf"
   ]
  },
  {
   "cell_type": "code",
   "execution_count": 0,
   "metadata": {
    "colab": {},
    "colab_type": "code",
    "id": "qC3tTIUjnK6Y"
   },
   "outputs": [],
   "source": [
    "ticker = \"GE\""
   ]
  },
  {
   "cell_type": "code",
   "execution_count": 0,
   "metadata": {
    "colab": {},
    "colab_type": "code",
    "id": "-yA1w3_unK6e",
    "scrolled": true
   },
   "outputs": [],
   "source": [
    "GE = yf.download(ticker, period  = \"5y\")"
   ]
  },
  {
   "cell_type": "code",
   "execution_count": 0,
   "metadata": {
    "colab": {},
    "colab_type": "code",
    "id": "HImY3l9TnK6h"
   },
   "outputs": [],
   "source": [
    "GE.head()"
   ]
  },
  {
   "cell_type": "code",
   "execution_count": 0,
   "metadata": {
    "colab": {},
    "colab_type": "code",
    "id": "xSRYgmgvnK6o"
   },
   "outputs": [],
   "source": [
    "GE.to_csv(\"GE.csv\")"
   ]
  },
  {
   "cell_type": "code",
   "execution_count": 0,
   "metadata": {
    "colab": {},
    "colab_type": "code",
    "id": "37VmE1DTnK6q",
    "scrolled": true
   },
   "outputs": [],
   "source": [
    "pd.read_csv(\"GE.csv\", parse_dates = [\"Date\"], index_col = \"Date\")"
   ]
  },
  {
   "cell_type": "code",
   "execution_count": 0,
   "metadata": {
    "colab": {},
    "colab_type": "code",
    "id": "QR5hVdfRnK6u"
   },
   "outputs": [],
   "source": [
    "GE.to_excel(\"GE.xls\")"
   ]
  },
  {
   "cell_type": "code",
   "execution_count": 0,
   "metadata": {
    "colab": {},
    "colab_type": "code",
    "id": "g2GMuTodnK6w",
    "scrolled": true
   },
   "outputs": [],
   "source": [
    "pd.read_excel(\"GE.xls\", parse_dates= [\"Date\"], index_col= \"Date\")"
   ]
  },
  {
   "cell_type": "code",
   "execution_count": 0,
   "metadata": {
    "colab": {},
    "colab_type": "code",
    "id": "0e5of5MLnK6y"
   },
   "outputs": [],
   "source": []
  },
  {
   "cell_type": "markdown",
   "metadata": {
    "colab_type": "text",
    "id": "cwDsW2xXnK61"
   },
   "source": [
    "## Importing Data for many Stocks"
   ]
  },
  {
   "cell_type": "code",
   "execution_count": 0,
   "metadata": {
    "colab": {},
    "colab_type": "code",
    "id": "23RPVR_WnK61"
   },
   "outputs": [],
   "source": [
    "import pandas as pd\n",
    "import yfinance as yf"
   ]
  },
  {
   "cell_type": "code",
   "execution_count": 0,
   "metadata": {
    "colab": {},
    "colab_type": "code",
    "id": "hT8nNpQvnK65"
   },
   "outputs": [],
   "source": [
    "ticker = [\"GE\", \"AAPL\", \"FB\"]"
   ]
  },
  {
   "cell_type": "code",
   "execution_count": 0,
   "metadata": {
    "colab": {},
    "colab_type": "code",
    "id": "YK2DrFTsnK68",
    "scrolled": true
   },
   "outputs": [],
   "source": [
    "yf.download(ticker, period  = \"5y\")"
   ]
  },
  {
   "cell_type": "code",
   "execution_count": 0,
   "metadata": {
    "colab": {},
    "colab_type": "code",
    "id": "2vBTQbPWnK6-",
    "scrolled": true
   },
   "outputs": [],
   "source": [
    "yf.download(ticker, period  = \"5y\" , group_by= \"Ticker\")"
   ]
  },
  {
   "cell_type": "code",
   "execution_count": 0,
   "metadata": {
    "colab": {},
    "colab_type": "code",
    "id": "Jiwr4jwpnK7A",
    "scrolled": true
   },
   "outputs": [],
   "source": [
    "stocks = yf.download(ticker, period  = \"5y\").Close"
   ]
  },
  {
   "cell_type": "code",
   "execution_count": 0,
   "metadata": {
    "colab": {},
    "colab_type": "code",
    "id": "T0fHFnZUnK7B"
   },
   "outputs": [],
   "source": [
    "stocks.head()"
   ]
  },
  {
   "cell_type": "code",
   "execution_count": 0,
   "metadata": {
    "colab": {},
    "colab_type": "code",
    "id": "KRN78dCZnK7D"
   },
   "outputs": [],
   "source": [
    "import matplotlib.pyplot as plt"
   ]
  },
  {
   "cell_type": "code",
   "execution_count": 0,
   "metadata": {
    "colab": {},
    "colab_type": "code",
    "id": "XQ1ileuAnK7F"
   },
   "outputs": [],
   "source": [
    "stocks.plot()\n",
    "plt.show()"
   ]
  },
  {
   "cell_type": "code",
   "execution_count": 0,
   "metadata": {
    "colab": {},
    "colab_type": "code",
    "id": "GljabGnynK7H"
   },
   "outputs": [],
   "source": []
  },
  {
   "cell_type": "markdown",
   "metadata": {
    "colab_type": "text",
    "id": "KTZZpfivnK7I"
   },
   "source": [
    "## Importing Financial Indexes"
   ]
  },
  {
   "cell_type": "code",
   "execution_count": 0,
   "metadata": {
    "colab": {},
    "colab_type": "code",
    "id": "WpgfhiZPnK7J"
   },
   "outputs": [],
   "source": [
    "import pandas as pd\n",
    "import yfinance as yf"
   ]
  },
  {
   "cell_type": "code",
   "execution_count": 0,
   "metadata": {
    "colab": {},
    "colab_type": "code",
    "id": "NMTUkHCmnK7M"
   },
   "outputs": [],
   "source": [
    "ticker = [\"^DJI\", \"^GSPC\"]"
   ]
  },
  {
   "cell_type": "code",
   "execution_count": 0,
   "metadata": {
    "colab": {},
    "colab_type": "code",
    "id": "GFX6CpfWnK7P",
    "scrolled": true
   },
   "outputs": [],
   "source": [
    "yf.download(ticker, period  = \"5y\")"
   ]
  },
  {
   "cell_type": "code",
   "execution_count": 0,
   "metadata": {
    "colab": {},
    "colab_type": "code",
    "id": "pnEz01-MnK7U"
   },
   "outputs": [],
   "source": [
    "indexes = yf.download(ticker, period  = \"5y\").Close"
   ]
  },
  {
   "cell_type": "code",
   "execution_count": 0,
   "metadata": {
    "colab": {},
    "colab_type": "code",
    "id": "Qub1-_BpnK7V"
   },
   "outputs": [],
   "source": [
    "indexes.head()"
   ]
  },
  {
   "cell_type": "code",
   "execution_count": 0,
   "metadata": {
    "colab": {},
    "colab_type": "code",
    "id": "IPlIvqScnK7Y"
   },
   "outputs": [],
   "source": [
    "norm = indexes.div(indexes.iloc[0]).mul(100)\n",
    "norm.head()"
   ]
  },
  {
   "cell_type": "code",
   "execution_count": 0,
   "metadata": {
    "colab": {},
    "colab_type": "code",
    "id": "bK79UA1unK7a"
   },
   "outputs": [],
   "source": [
    "norm.plot()\n",
    "plt.show()"
   ]
  },
  {
   "cell_type": "code",
   "execution_count": 0,
   "metadata": {
    "colab": {},
    "colab_type": "code",
    "id": "N0coXZK_nK7c"
   },
   "outputs": [],
   "source": [
    "ticker = [\"^DJITR\", \"^SP500TR\"]"
   ]
  },
  {
   "cell_type": "code",
   "execution_count": 0,
   "metadata": {
    "colab": {},
    "colab_type": "code",
    "id": "tQzwnlsEnK7d"
   },
   "outputs": [],
   "source": [
    "indexes = yf.download(ticker, period  = \"5y\").Close"
   ]
  },
  {
   "cell_type": "code",
   "execution_count": 0,
   "metadata": {
    "colab": {},
    "colab_type": "code",
    "id": "iONG-QRQnK7i",
    "scrolled": true
   },
   "outputs": [],
   "source": [
    "indexes"
   ]
  },
  {
   "cell_type": "code",
   "execution_count": 0,
   "metadata": {
    "colab": {},
    "colab_type": "code",
    "id": "exIquhENnK7p"
   },
   "outputs": [],
   "source": []
  },
  {
   "cell_type": "markdown",
   "metadata": {
    "colab_type": "text",
    "id": "XXtUaAw5nK7r"
   },
   "source": [
    "## Importing Currencies / FX"
   ]
  },
  {
   "cell_type": "code",
   "execution_count": 0,
   "metadata": {
    "colab": {},
    "colab_type": "code",
    "id": "HvuspRt_nK7s"
   },
   "outputs": [],
   "source": [
    "import pandas as pd\n",
    "import yfinance as yf"
   ]
  },
  {
   "cell_type": "code",
   "execution_count": 0,
   "metadata": {
    "colab": {},
    "colab_type": "code",
    "id": "Z3_3_PwpnK7t"
   },
   "outputs": [],
   "source": [
    "ticker = \"EURUSD=X\"\n",
    "ticker2 = \"USDEUR=X\""
   ]
  },
  {
   "cell_type": "code",
   "execution_count": 0,
   "metadata": {
    "colab": {},
    "colab_type": "code",
    "id": "NbRMiP1gnK7v",
    "scrolled": true
   },
   "outputs": [],
   "source": [
    "yf.download(ticker, period  = \"5y\")"
   ]
  },
  {
   "cell_type": "code",
   "execution_count": 0,
   "metadata": {
    "colab": {},
    "colab_type": "code",
    "id": "PFhuzvhrnK7x",
    "scrolled": true
   },
   "outputs": [],
   "source": [
    "yf.download(ticker2, period  = \"5y\")"
   ]
  },
  {
   "cell_type": "code",
   "execution_count": 0,
   "metadata": {
    "colab": {},
    "colab_type": "code",
    "id": "jQkU7SFwnK7z"
   },
   "outputs": [],
   "source": [
    "ticker3 = \"USDGBP=X\""
   ]
  },
  {
   "cell_type": "code",
   "execution_count": 0,
   "metadata": {
    "colab": {},
    "colab_type": "code",
    "id": "TLHHScvmnK71",
    "scrolled": true
   },
   "outputs": [],
   "source": [
    "yf.download(ticker3, period  = \"5y\")"
   ]
  },
  {
   "cell_type": "code",
   "execution_count": 0,
   "metadata": {
    "colab": {},
    "colab_type": "code",
    "id": "ef6App-QnK73"
   },
   "outputs": [],
   "source": []
  },
  {
   "cell_type": "markdown",
   "metadata": {
    "colab_type": "text",
    "id": "jF2kRf4vnK74"
   },
   "source": [
    "## Importing Cryptocurrencies"
   ]
  },
  {
   "cell_type": "code",
   "execution_count": 0,
   "metadata": {
    "colab": {},
    "colab_type": "code",
    "id": "oFai7ZttnK75"
   },
   "outputs": [],
   "source": [
    "import pandas as pd\n",
    "import yfinance as yf"
   ]
  },
  {
   "cell_type": "code",
   "execution_count": 0,
   "metadata": {
    "colab": {},
    "colab_type": "code",
    "id": "YojHNx98nK77"
   },
   "outputs": [],
   "source": [
    "ticker = [\"BTC-EUR\", \"ETH-USD\"]"
   ]
  },
  {
   "cell_type": "code",
   "execution_count": 0,
   "metadata": {
    "colab": {},
    "colab_type": "code",
    "id": "NRGF5FOsnK78",
    "scrolled": true
   },
   "outputs": [],
   "source": [
    "yf.download(ticker, period  = \"5y\")"
   ]
  },
  {
   "cell_type": "code",
   "execution_count": 0,
   "metadata": {
    "colab": {},
    "colab_type": "code",
    "id": "2BcjceRUnK8A"
   },
   "outputs": [],
   "source": [
    "crypt = yf.download(ticker, period  = \"5y\").Close"
   ]
  },
  {
   "cell_type": "code",
   "execution_count": 0,
   "metadata": {
    "colab": {},
    "colab_type": "code",
    "id": "zLurZbHinK8C",
    "scrolled": true
   },
   "outputs": [],
   "source": [
    "crypt"
   ]
  },
  {
   "cell_type": "code",
   "execution_count": 0,
   "metadata": {
    "colab": {},
    "colab_type": "code",
    "id": "-v9i3DionK8D"
   },
   "outputs": [],
   "source": [
    "import matplotlib.pyplot as plt"
   ]
  },
  {
   "cell_type": "code",
   "execution_count": 0,
   "metadata": {
    "colab": {},
    "colab_type": "code",
    "id": "nof7Z7JYnK8F"
   },
   "outputs": [],
   "source": [
    "crypt.plot()\n",
    "plt.show()"
   ]
  },
  {
   "cell_type": "code",
   "execution_count": 0,
   "metadata": {
    "colab": {},
    "colab_type": "code",
    "id": "IWXGOx9gnK8H"
   },
   "outputs": [],
   "source": []
  },
  {
   "cell_type": "markdown",
   "metadata": {
    "colab_type": "text",
    "id": "YEflhI24nK8J"
   },
   "source": [
    "## Importing Funds & ETFs"
   ]
  },
  {
   "cell_type": "code",
   "execution_count": 0,
   "metadata": {
    "colab": {},
    "colab_type": "code",
    "id": "b2nctuB4nK8J"
   },
   "outputs": [],
   "source": [
    "import pandas as pd\n",
    "import yfinance as yf"
   ]
  },
  {
   "cell_type": "code",
   "execution_count": 0,
   "metadata": {
    "colab": {},
    "colab_type": "code",
    "id": "WvOmbH9unK8L"
   },
   "outputs": [],
   "source": [
    "ticker = \"TLT\" # iShares 20+ Year Treasury Bond ETF\n",
    "ticker2 = \"OMOIX\" # Vivaldi Multi-Strategy Fund Class I"
   ]
  },
  {
   "cell_type": "code",
   "execution_count": 0,
   "metadata": {
    "colab": {},
    "colab_type": "code",
    "id": "2M1oHJX4nK8N",
    "scrolled": true
   },
   "outputs": [],
   "source": [
    "yf.download(ticker, period  = \"5y\")"
   ]
  },
  {
   "cell_type": "code",
   "execution_count": 0,
   "metadata": {
    "colab": {},
    "colab_type": "code",
    "id": "8ifX0yuznK8Q",
    "scrolled": true
   },
   "outputs": [],
   "source": [
    "yf.download(ticker2, period  = \"5y\") "
   ]
  },
  {
   "cell_type": "code",
   "execution_count": 0,
   "metadata": {
    "colab": {},
    "colab_type": "code",
    "id": "V-QfMqeknK8R"
   },
   "outputs": [],
   "source": []
  },
  {
   "cell_type": "markdown",
   "metadata": {
    "colab_type": "text",
    "id": "wFcxm6AInK8V"
   },
   "source": [
    "## Importing Treasury Yields"
   ]
  },
  {
   "cell_type": "code",
   "execution_count": 0,
   "metadata": {
    "colab": {},
    "colab_type": "code",
    "id": "jdF4giVDnK8W"
   },
   "outputs": [],
   "source": [
    "import pandas as pd\n",
    "import yfinance as yf"
   ]
  },
  {
   "cell_type": "code",
   "execution_count": 0,
   "metadata": {
    "colab": {},
    "colab_type": "code",
    "id": "GJFz98SonK8Y"
   },
   "outputs": [],
   "source": [
    "ticker1 = \"^TNX\" # 10Y Tresury Yield\n",
    "ticker2 = \"^FVX\" # 5Y Treasury Yield"
   ]
  },
  {
   "cell_type": "code",
   "execution_count": 0,
   "metadata": {
    "colab": {},
    "colab_type": "code",
    "id": "oi8XOFDtnK8e"
   },
   "outputs": [],
   "source": [
    "ticker = [\"^TNX\", \"^FVX\"]"
   ]
  },
  {
   "cell_type": "code",
   "execution_count": 0,
   "metadata": {
    "colab": {},
    "colab_type": "code",
    "id": "sfKsASYXnK8f",
    "scrolled": true
   },
   "outputs": [],
   "source": [
    "yf.download(ticker, period  = \"5y\")"
   ]
  },
  {
   "cell_type": "code",
   "execution_count": 0,
   "metadata": {
    "colab": {},
    "colab_type": "code",
    "id": "H0hgfRA3nK8h"
   },
   "outputs": [],
   "source": [
    "yields = yf.download(ticker, period  = \"5y\").Close"
   ]
  },
  {
   "cell_type": "code",
   "execution_count": 0,
   "metadata": {
    "colab": {},
    "colab_type": "code",
    "id": "Z3P_lZn9nK8k"
   },
   "outputs": [],
   "source": [
    "import matplotlib.pyplot as plt"
   ]
  },
  {
   "cell_type": "code",
   "execution_count": 0,
   "metadata": {
    "colab": {},
    "colab_type": "code",
    "id": "nALNjD2dnK8o"
   },
   "outputs": [],
   "source": [
    "yields.plot()\n",
    "plt.show()"
   ]
  },
  {
   "cell_type": "code",
   "execution_count": 0,
   "metadata": {
    "colab": {},
    "colab_type": "code",
    "id": "ixjycMbtnK8q"
   },
   "outputs": [],
   "source": []
  },
  {
   "cell_type": "markdown",
   "metadata": {
    "colab_type": "text",
    "id": "00lanuRMnK8s"
   },
   "source": [
    "## The Ticker Object"
   ]
  },
  {
   "cell_type": "code",
   "execution_count": 0,
   "metadata": {
    "colab": {},
    "colab_type": "code",
    "id": "javOWNusnK8t"
   },
   "outputs": [],
   "source": [
    "import pandas as pd\n",
    "import yfinance as yf"
   ]
  },
  {
   "cell_type": "code",
   "execution_count": 0,
   "metadata": {
    "colab": {},
    "colab_type": "code",
    "id": "Qzjr8VXxnK8u"
   },
   "outputs": [],
   "source": [
    "ticker = \"DIS\""
   ]
  },
  {
   "cell_type": "code",
   "execution_count": 0,
   "metadata": {
    "colab": {},
    "colab_type": "code",
    "id": "tVK61UgwnK8w"
   },
   "outputs": [],
   "source": [
    "dis = yf.Ticker(ticker)"
   ]
  },
  {
   "cell_type": "code",
   "execution_count": 0,
   "metadata": {
    "colab": {},
    "colab_type": "code",
    "id": "R1vwUHJmnK8x"
   },
   "outputs": [],
   "source": [
    "dis"
   ]
  },
  {
   "cell_type": "code",
   "execution_count": 0,
   "metadata": {
    "colab": {},
    "colab_type": "code",
    "id": "-vmQCphrnK80"
   },
   "outputs": [],
   "source": [
    "dis.ticker"
   ]
  },
  {
   "cell_type": "code",
   "execution_count": 0,
   "metadata": {
    "colab": {},
    "colab_type": "code",
    "id": "fvzj18JYnK82",
    "scrolled": true
   },
   "outputs": [],
   "source": [
    "dis.history()"
   ]
  },
  {
   "cell_type": "code",
   "execution_count": 0,
   "metadata": {
    "colab": {},
    "colab_type": "code",
    "id": "M6yE8h6RnK84"
   },
   "outputs": [],
   "source": []
  },
  {
   "cell_type": "markdown",
   "metadata": {
    "colab_type": "text",
    "id": "NOrN9OSqnK86"
   },
   "source": [
    "## Stock Fundamentals, Meta Data and Performance Metrics"
   ]
  },
  {
   "cell_type": "code",
   "execution_count": 0,
   "metadata": {
    "colab": {},
    "colab_type": "code",
    "id": "vb1k5CegnK86"
   },
   "outputs": [],
   "source": [
    "dis"
   ]
  },
  {
   "cell_type": "code",
   "execution_count": 0,
   "metadata": {
    "colab": {},
    "colab_type": "code",
    "id": "BIbsmgNhnK88",
    "scrolled": true
   },
   "outputs": [],
   "source": [
    "dis.info"
   ]
  },
  {
   "cell_type": "code",
   "execution_count": 0,
   "metadata": {
    "colab": {},
    "colab_type": "code",
    "id": "AFr0sRHvnK89",
    "scrolled": true
   },
   "outputs": [],
   "source": [
    "pd.Series(dis.info)"
   ]
  },
  {
   "cell_type": "code",
   "execution_count": 0,
   "metadata": {
    "colab": {},
    "colab_type": "code",
    "id": "5DhzjUz2nK9A"
   },
   "outputs": [],
   "source": [
    "df = pd.Series(dis.info, name = \"DIS\").to_frame().T\n",
    "df"
   ]
  },
  {
   "cell_type": "code",
   "execution_count": 0,
   "metadata": {
    "colab": {},
    "colab_type": "code",
    "id": "WQLRrx4rnK9F"
   },
   "outputs": [],
   "source": [
    "ticker = [\"MSFT\", \"FB\"]"
   ]
  },
  {
   "cell_type": "code",
   "execution_count": 0,
   "metadata": {
    "colab": {},
    "colab_type": "code",
    "id": "vcZIUzbDnK9H"
   },
   "outputs": [],
   "source": [
    "for i in ticker:\n",
    "    df.loc[\"{}\".format(i)] = pd.Series(yf.Ticker(i).info)    "
   ]
  },
  {
   "cell_type": "code",
   "execution_count": 0,
   "metadata": {
    "colab": {},
    "colab_type": "code",
    "id": "pdTPEq3wnK9J"
   },
   "outputs": [],
   "source": [
    "df"
   ]
  },
  {
   "cell_type": "code",
   "execution_count": 0,
   "metadata": {
    "colab": {},
    "colab_type": "code",
    "id": "84ncb08nnK9L",
    "scrolled": true
   },
   "outputs": [],
   "source": [
    "df.info()"
   ]
  },
  {
   "cell_type": "code",
   "execution_count": 0,
   "metadata": {
    "colab": {},
    "colab_type": "code",
    "id": "SPPlw5gfnK9M"
   },
   "outputs": [],
   "source": []
  },
  {
   "cell_type": "markdown",
   "metadata": {
    "colab_type": "text",
    "id": "pwXPvriMnK9O"
   },
   "source": [
    "## Importing Financials (Balance Sheet, P&L, Cashflows)"
   ]
  },
  {
   "cell_type": "code",
   "execution_count": 0,
   "metadata": {
    "colab": {},
    "colab_type": "code",
    "id": "4H5P6fvwnK9O"
   },
   "outputs": [],
   "source": [
    "dis"
   ]
  },
  {
   "cell_type": "code",
   "execution_count": 0,
   "metadata": {
    "colab": {},
    "colab_type": "code",
    "id": "7BHS5_GLnK9Q",
    "scrolled": true
   },
   "outputs": [],
   "source": [
    "dis.balance_sheet"
   ]
  },
  {
   "cell_type": "code",
   "execution_count": 0,
   "metadata": {
    "colab": {},
    "colab_type": "code",
    "id": "IGhdHnacnK9S"
   },
   "outputs": [],
   "source": [
    "dis.financials"
   ]
  },
  {
   "cell_type": "code",
   "execution_count": 0,
   "metadata": {
    "colab": {},
    "colab_type": "code",
    "id": "nLUSsbQHnK9Y",
    "scrolled": true
   },
   "outputs": [],
   "source": [
    "dis.cashflow"
   ]
  },
  {
   "cell_type": "code",
   "execution_count": 0,
   "metadata": {
    "colab": {},
    "colab_type": "code",
    "id": "lCDfnCNJnK9b"
   },
   "outputs": [],
   "source": [
    "ticker = [\"AAPL\", \"FB\", \"AMZN\"]"
   ]
  },
  {
   "cell_type": "code",
   "execution_count": 0,
   "metadata": {
    "colab": {},
    "colab_type": "code",
    "id": "uSFt1WdjnK9n"
   },
   "outputs": [],
   "source": [
    "for i in ticker:\n",
    "    yf.Ticker(i).financials.to_csv(\"{}.csv\".format(i))"
   ]
  },
  {
   "cell_type": "code",
   "execution_count": 0,
   "metadata": {
    "colab": {},
    "colab_type": "code",
    "id": "6ysFdsb6nK9q"
   },
   "outputs": [],
   "source": []
  },
  {
   "cell_type": "markdown",
   "metadata": {
    "colab_type": "text",
    "id": "KBk9JjnfnK9s"
   },
   "source": [
    "## Importing Put / Call Options (Stocks)"
   ]
  },
  {
   "cell_type": "code",
   "execution_count": 0,
   "metadata": {
    "colab": {},
    "colab_type": "code",
    "id": "fauQ-uOKnK9s"
   },
   "outputs": [],
   "source": [
    "dis"
   ]
  },
  {
   "cell_type": "code",
   "execution_count": 0,
   "metadata": {
    "colab": {},
    "colab_type": "code",
    "id": "WYNekMSXnK9t",
    "scrolled": true
   },
   "outputs": [],
   "source": [
    "dis.option_chain()"
   ]
  },
  {
   "cell_type": "code",
   "execution_count": 0,
   "metadata": {
    "colab": {},
    "colab_type": "code",
    "id": "61-0PUChnK9u"
   },
   "outputs": [],
   "source": [
    "calls = dis.option_chain()[0]\n",
    "calls"
   ]
  },
  {
   "cell_type": "code",
   "execution_count": 0,
   "metadata": {
    "colab": {},
    "colab_type": "code",
    "id": "-ouPY7bsnK9v"
   },
   "outputs": [],
   "source": [
    "puts = dis.option_chain()[1]\n",
    "puts"
   ]
  },
  {
   "cell_type": "code",
   "execution_count": 0,
   "metadata": {
    "colab": {},
    "colab_type": "code",
    "id": "D5eule2-nK9w"
   },
   "outputs": [],
   "source": []
  },
  {
   "cell_type": "markdown",
   "metadata": {
    "colab_type": "text",
    "id": "Wdy-U4RHnK9x"
   },
   "source": [
    "## Streaming real-time Data"
   ]
  },
  {
   "cell_type": "code",
   "execution_count": 0,
   "metadata": {
    "colab": {},
    "colab_type": "code",
    "id": "plBpRN-jnK9y"
   },
   "outputs": [],
   "source": [
    "import pandas as pd\n",
    "import yfinance as yf\n",
    "import time"
   ]
  },
  {
   "cell_type": "code",
   "execution_count": 0,
   "metadata": {
    "colab": {},
    "colab_type": "code",
    "id": "dbRGcLKWnK9z"
   },
   "outputs": [],
   "source": [
    "yf.download(\"EURUSD=X\", interval = \"1m\", period = \"1d\").tail()"
   ]
  },
  {
   "cell_type": "code",
   "execution_count": 0,
   "metadata": {
    "colab": {},
    "colab_type": "code",
    "id": "UNnIkE-rnK90"
   },
   "outputs": [],
   "source": [
    "data = yf.download(\"EURUSD=X\", interval = \"1m\", period = \"1d\")"
   ]
  },
  {
   "cell_type": "code",
   "execution_count": 0,
   "metadata": {
    "colab": {},
    "colab_type": "code",
    "id": "QXvDg6swnK92"
   },
   "outputs": [],
   "source": [
    "print(data.index[-1], data.iloc[-1, 3])"
   ]
  },
  {
   "cell_type": "code",
   "execution_count": 0,
   "metadata": {
    "colab": {},
    "colab_type": "code",
    "id": "FW9TtLTUnK94"
   },
   "outputs": [],
   "source": [
    "while True:\n",
    "    time.sleep(5)\n",
    "    data = yf.download(\"EURUSD=X\", interval = \"1m\", period = \"1d\")\n",
    "    print(data.index[-1], data.iloc[-1, 3])"
   ]
  },
  {
   "cell_type": "code",
   "execution_count": 0,
   "metadata": {
    "colab": {},
    "colab_type": "code",
    "id": "_Yd7ObsLnK95"
   },
   "outputs": [],
   "source": [
    "while True:\n",
    "    time.sleep(60)\n",
    "    data = yf.download(\"EURUSD=X\", interval = \"1m\", period = \"1d\")\n",
    "    print(data.index[-1], data.iloc[-1, 3])"
   ]
  },
  {
   "cell_type": "code",
   "execution_count": 0,
   "metadata": {
    "colab": {},
    "colab_type": "code",
    "id": "8SkaNZ0HnK98"
   },
   "outputs": [],
   "source": []
  }
 ],
 "metadata": {
  "colab": {
   "name": "yfinance.ipynb",
   "provenance": []
  },
  "kernelspec": {
   "display_name": "Python 3",
   "language": "python",
   "name": "python3"
  },
  "language_info": {
   "codemirror_mode": {
    "name": "ipython",
    "version": 3
   },
   "file_extension": ".py",
   "mimetype": "text/x-python",
   "name": "python",
   "nbconvert_exporter": "python",
   "pygments_lexer": "ipython3",
   "version": "3.7.4"
  }
 },
 "nbformat": 4,
 "nbformat_minor": 1
}
