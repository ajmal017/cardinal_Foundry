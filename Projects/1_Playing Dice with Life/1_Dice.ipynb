{
 "cells": [
  {
   "cell_type": "markdown",
   "metadata": {},
   "source": [
    "Dependencies"
   ]
  },
  {
   "cell_type": "code",
   "execution_count": 19,
   "metadata": {},
   "outputs": [],
   "source": [
    "import random\n",
    "import numpy as np\n",
    "import pandas as pd"
   ]
  },
  {
   "cell_type": "markdown",
   "metadata": {},
   "source": [
    "For any kind of dice, we need variables to store framework."
   ]
  },
  {
   "cell_type": "code",
   "execution_count": 16,
   "metadata": {},
   "outputs": [
    {
     "name": "stdout",
     "output_type": "stream",
     "text": [
      "[0, 1, 2, 3, 4, 5]\n"
     ]
    }
   ],
   "source": [
    "i_break = {0:\"Nothing\", 1: \"OpenCV\", 2: \"Python\", 3: \"DS\",4: \"PyTorch\", 5:\"LaTex\"}\n",
    "i_break_List = list(i_break)\n",
    "print(i_break_List)"
   ]
  },
  {
   "cell_type": "code",
   "execution_count": 17,
   "metadata": {},
   "outputs": [
    {
     "name": "stdout",
     "output_type": "stream",
     "text": [
      "Let's see [0, 1, 2, 3, 4, 5] and ['Do nothing', 'OpenCV', 'Python', 'DS', 'PyTorch', 'LaTex'].\n"
     ]
    }
   ],
   "source": [
    "topic_id_1 = list(i_break.keys())\n",
    "topic_names_1 = list(i_break.values())\n",
    "print(\"Let's see {} and {}.\".format(topic_id,topic_names) )"
   ]
  },
  {
   "cell_type": "code",
   "execution_count": 22,
   "metadata": {},
   "outputs": [],
   "source": [
    "def generate(x=int):\n",
    "    sequence = [i for i in range(x)]\n",
    "    for i in range(x):\n",
    "        selection = random.choice(sequence)\n",
    "        return print(selection)\n",
    "def add(topic_id = int, topic_name = str):\n",
    "    pass"
   ]
  },
  {
   "cell_type": "code",
   "execution_count": null,
   "metadata": {},
   "outputs": [],
   "source": []
  }
 ],
 "metadata": {
  "kernelspec": {
   "display_name": "Python 3",
   "language": "python",
   "name": "python3"
  },
  "language_info": {
   "codemirror_mode": {
    "name": "ipython",
    "version": 3
   },
   "file_extension": ".py",
   "mimetype": "text/x-python",
   "name": "python",
   "nbconvert_exporter": "python",
   "pygments_lexer": "ipython3",
   "version": "3.7.3"
  }
 },
 "nbformat": 4,
 "nbformat_minor": 2
}
