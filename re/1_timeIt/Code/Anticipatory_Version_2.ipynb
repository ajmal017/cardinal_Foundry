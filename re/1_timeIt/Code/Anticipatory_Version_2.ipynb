{
 "cells": [
  {
   "cell_type": "markdown",
   "metadata": {},
   "source": [
    "### Dependencies "
   ]
  },
  {
   "cell_type": "code",
   "execution_count": 1,
   "metadata": {},
   "outputs": [],
   "source": [
    "import pandas as pd\n",
    "import numpy as np\n",
    "import matplotlib.pyplot as plt\n",
    "import seaborn as sns\n",
    "import scipy.stats as spstats\n",
    "%matplotlib inline\n",
    "pd.set_option('display.max_rows', 500)\n",
    "pd.set_option('display.max_columns', 500)\n",
    "pd.set_option('display.width', 1000)"
   ]
  },
  {
   "cell_type": "markdown",
   "metadata": {},
   "source": [
    "Merged Data"
   ]
  },
  {
   "cell_type": "code",
   "execution_count": 2,
   "metadata": {},
   "outputs": [],
   "source": [
    "df = pd.read_csv('df.csv')"
   ]
  },
  {
   "cell_type": "markdown",
   "metadata": {},
   "source": [
    "Converting to datetime"
   ]
  },
  {
   "cell_type": "code",
   "execution_count": 3,
   "metadata": {},
   "outputs": [],
   "source": [
    "df[['order_estimated_delivery_date','order_purchase_timestamp','review_creation_date','review_answer_timestamp','review_answer_timestamp','shipping_limit_date','order_approved_at','order_delivered_carrier_date','order_delivered_customer_date']] = df[['order_estimated_delivery_date','order_purchase_timestamp','review_creation_date','review_answer_timestamp','review_answer_timestamp','shipping_limit_date','order_approved_at','order_delivered_carrier_date','order_delivered_customer_date']].apply(pd.to_datetime, format='%Y-%m-%d %H:%M:%S')\n"
   ]
  },
  {
   "cell_type": "markdown",
   "metadata": {},
   "source": [
    "Rearraging Columns "
   ]
  },
  {
   "cell_type": "code",
   "execution_count": 4,
   "metadata": {},
   "outputs": [],
   "source": [
    "df = df.reindex(columns=['order_id', 'product_id', 'seller_id','customer_id', 'order_item_id','customer_unique_id', 'shipping_limit_date', 'order_purchase_timestamp', 'order_approved_at', 'order_delivered_carrier_date', 'order_delivered_customer_date', 'order_estimated_delivery_date','review_creation_date','review_answer_timestamp', 'price', 'freight_value', 'customer_zip_code_prefix', 'customer_city', 'customer_state', 'seller_zip_code_prefix', 'seller_city', 'seller_state', 'order_status', 'payment_sequential', 'payment_type', 'payment_installments', 'payment_value', 'review_id', 'review_score', 'review_comment_title', 'review_comment_message', 'product_category_name', 'product_name_lenght', 'product_description_lenght', 'product_photos_qty', 'product_weight_g', 'product_length_cm', 'product_height_cm', 'product_width_cm'])"
   ]
  },
  {
   "cell_type": "markdown",
   "metadata": {},
   "source": [
    "Missing Values\n",
    "\n"
   ]
  },
  {
   "cell_type": "code",
   "execution_count": 5,
   "metadata": {},
   "outputs": [
    {
     "data": {
      "text/plain": [
       "review_comment_title             104226\n",
       "review_comment_message            67650\n",
       "order_delivered_customer_date      2588\n",
       "product_photos_qty                 1709\n",
       "product_description_lenght         1709\n",
       "product_name_lenght                1709\n",
       "product_category_name              1709\n",
       "order_delivered_carrier_date       1254\n",
       "product_width_cm                     20\n",
       "product_length_cm                    20\n",
       "product_weight_g                     20\n",
       "product_height_cm                    20\n",
       "order_approved_at                    15\n",
       "order_purchase_timestamp              0\n",
       "review_creation_date                  0\n",
       "order_estimated_delivery_date         0\n",
       "customer_id                           0\n",
       "shipping_limit_date                   0\n",
       "customer_unique_id                    0\n",
       "order_item_id                         0\n",
       "price                                 0\n",
       "seller_id                             0\n",
       "product_id                            0\n",
       "review_answer_timestamp               0\n",
       "seller_zip_code_prefix                0\n",
       "freight_value                         0\n",
       "customer_zip_code_prefix              0\n",
       "customer_city                         0\n",
       "customer_state                        0\n",
       "seller_city                           0\n",
       "seller_state                          0\n",
       "order_status                          0\n",
       "payment_sequential                    0\n",
       "payment_type                          0\n",
       "payment_installments                  0\n",
       "payment_value                         0\n",
       "review_id                             0\n",
       "review_score                          0\n",
       "order_id                              0\n",
       "dtype: int64"
      ]
     },
     "execution_count": 5,
     "metadata": {},
     "output_type": "execute_result"
    }
   ],
   "source": [
    "df.isna().sum().sort_values(ascending=False)"
   ]
  },
  {
   "cell_type": "code",
   "execution_count": 6,
   "metadata": {},
   "outputs": [],
   "source": [
    "df.product_photos_qty.fillna(0,inplace=True)"
   ]
  },
  {
   "cell_type": "markdown",
   "metadata": {},
   "source": [
    "Descriptive Statistics"
   ]
  },
  {
   "cell_type": "code",
   "execution_count": 7,
   "metadata": {},
   "outputs": [
    {
     "data": {
      "text/html": [
       "<div>\n",
       "<style scoped>\n",
       "    .dataframe tbody tr th:only-of-type {\n",
       "        vertical-align: middle;\n",
       "    }\n",
       "\n",
       "    .dataframe tbody tr th {\n",
       "        vertical-align: top;\n",
       "    }\n",
       "\n",
       "    .dataframe thead th {\n",
       "        text-align: right;\n",
       "    }\n",
       "</style>\n",
       "<table border=\"1\" class=\"dataframe\">\n",
       "  <thead>\n",
       "    <tr style=\"text-align: right;\">\n",
       "      <th></th>\n",
       "      <th>count</th>\n",
       "      <th>mean</th>\n",
       "      <th>std</th>\n",
       "      <th>min</th>\n",
       "      <th>25%</th>\n",
       "      <th>50%</th>\n",
       "      <th>75%</th>\n",
       "      <th>max</th>\n",
       "    </tr>\n",
       "  </thead>\n",
       "  <tbody>\n",
       "    <tr>\n",
       "      <th>order_item_id</th>\n",
       "      <td>118315.0</td>\n",
       "      <td>1.20</td>\n",
       "      <td>0.70</td>\n",
       "      <td>1.00</td>\n",
       "      <td>1.00</td>\n",
       "      <td>1.00</td>\n",
       "      <td>1.00</td>\n",
       "      <td>21.00</td>\n",
       "    </tr>\n",
       "    <tr>\n",
       "      <th>price</th>\n",
       "      <td>118315.0</td>\n",
       "      <td>120.65</td>\n",
       "      <td>184.11</td>\n",
       "      <td>0.85</td>\n",
       "      <td>39.90</td>\n",
       "      <td>74.90</td>\n",
       "      <td>134.90</td>\n",
       "      <td>6735.00</td>\n",
       "    </tr>\n",
       "    <tr>\n",
       "      <th>freight_value</th>\n",
       "      <td>118315.0</td>\n",
       "      <td>20.03</td>\n",
       "      <td>15.84</td>\n",
       "      <td>0.00</td>\n",
       "      <td>13.08</td>\n",
       "      <td>16.28</td>\n",
       "      <td>21.18</td>\n",
       "      <td>409.68</td>\n",
       "    </tr>\n",
       "    <tr>\n",
       "      <th>customer_zip_code_prefix</th>\n",
       "      <td>118315.0</td>\n",
       "      <td>35051.68</td>\n",
       "      <td>29824.81</td>\n",
       "      <td>1003.00</td>\n",
       "      <td>11310.00</td>\n",
       "      <td>24310.00</td>\n",
       "      <td>58640.00</td>\n",
       "      <td>99990.00</td>\n",
       "    </tr>\n",
       "    <tr>\n",
       "      <th>seller_zip_code_prefix</th>\n",
       "      <td>118315.0</td>\n",
       "      <td>24440.79</td>\n",
       "      <td>27571.68</td>\n",
       "      <td>1001.00</td>\n",
       "      <td>6429.00</td>\n",
       "      <td>13660.00</td>\n",
       "      <td>27946.50</td>\n",
       "      <td>99730.00</td>\n",
       "    </tr>\n",
       "    <tr>\n",
       "      <th>payment_sequential</th>\n",
       "      <td>118315.0</td>\n",
       "      <td>1.09</td>\n",
       "      <td>0.73</td>\n",
       "      <td>1.00</td>\n",
       "      <td>1.00</td>\n",
       "      <td>1.00</td>\n",
       "      <td>1.00</td>\n",
       "      <td>29.00</td>\n",
       "    </tr>\n",
       "    <tr>\n",
       "      <th>payment_installments</th>\n",
       "      <td>118315.0</td>\n",
       "      <td>2.94</td>\n",
       "      <td>2.78</td>\n",
       "      <td>0.00</td>\n",
       "      <td>1.00</td>\n",
       "      <td>2.00</td>\n",
       "      <td>4.00</td>\n",
       "      <td>24.00</td>\n",
       "    </tr>\n",
       "    <tr>\n",
       "      <th>payment_value</th>\n",
       "      <td>118315.0</td>\n",
       "      <td>172.58</td>\n",
       "      <td>267.10</td>\n",
       "      <td>0.00</td>\n",
       "      <td>60.85</td>\n",
       "      <td>108.20</td>\n",
       "      <td>189.26</td>\n",
       "      <td>13664.08</td>\n",
       "    </tr>\n",
       "    <tr>\n",
       "      <th>review_score</th>\n",
       "      <td>118315.0</td>\n",
       "      <td>4.01</td>\n",
       "      <td>1.40</td>\n",
       "      <td>1.00</td>\n",
       "      <td>3.00</td>\n",
       "      <td>5.00</td>\n",
       "      <td>5.00</td>\n",
       "      <td>5.00</td>\n",
       "    </tr>\n",
       "    <tr>\n",
       "      <th>product_name_lenght</th>\n",
       "      <td>116606.0</td>\n",
       "      <td>48.77</td>\n",
       "      <td>10.03</td>\n",
       "      <td>5.00</td>\n",
       "      <td>42.00</td>\n",
       "      <td>52.00</td>\n",
       "      <td>57.00</td>\n",
       "      <td>76.00</td>\n",
       "    </tr>\n",
       "    <tr>\n",
       "      <th>product_description_lenght</th>\n",
       "      <td>116606.0</td>\n",
       "      <td>785.94</td>\n",
       "      <td>652.58</td>\n",
       "      <td>4.00</td>\n",
       "      <td>346.00</td>\n",
       "      <td>600.00</td>\n",
       "      <td>983.00</td>\n",
       "      <td>3992.00</td>\n",
       "    </tr>\n",
       "    <tr>\n",
       "      <th>product_photos_qty</th>\n",
       "      <td>118315.0</td>\n",
       "      <td>2.17</td>\n",
       "      <td>1.73</td>\n",
       "      <td>0.00</td>\n",
       "      <td>1.00</td>\n",
       "      <td>1.00</td>\n",
       "      <td>3.00</td>\n",
       "      <td>20.00</td>\n",
       "    </tr>\n",
       "    <tr>\n",
       "      <th>product_weight_g</th>\n",
       "      <td>118295.0</td>\n",
       "      <td>2112.33</td>\n",
       "      <td>3786.72</td>\n",
       "      <td>0.00</td>\n",
       "      <td>300.00</td>\n",
       "      <td>700.00</td>\n",
       "      <td>1800.00</td>\n",
       "      <td>40425.00</td>\n",
       "    </tr>\n",
       "    <tr>\n",
       "      <th>product_length_cm</th>\n",
       "      <td>118295.0</td>\n",
       "      <td>30.27</td>\n",
       "      <td>16.19</td>\n",
       "      <td>7.00</td>\n",
       "      <td>18.00</td>\n",
       "      <td>25.00</td>\n",
       "      <td>38.00</td>\n",
       "      <td>105.00</td>\n",
       "    </tr>\n",
       "    <tr>\n",
       "      <th>product_height_cm</th>\n",
       "      <td>118295.0</td>\n",
       "      <td>16.62</td>\n",
       "      <td>13.45</td>\n",
       "      <td>2.00</td>\n",
       "      <td>8.00</td>\n",
       "      <td>13.00</td>\n",
       "      <td>20.00</td>\n",
       "      <td>105.00</td>\n",
       "    </tr>\n",
       "    <tr>\n",
       "      <th>product_width_cm</th>\n",
       "      <td>118295.0</td>\n",
       "      <td>23.08</td>\n",
       "      <td>11.75</td>\n",
       "      <td>6.00</td>\n",
       "      <td>15.00</td>\n",
       "      <td>20.00</td>\n",
       "      <td>30.00</td>\n",
       "      <td>118.00</td>\n",
       "    </tr>\n",
       "  </tbody>\n",
       "</table>\n",
       "</div>"
      ],
      "text/plain": [
       "                               count      mean       std      min       25%       50%       75%       max\n",
       "order_item_id               118315.0      1.20      0.70     1.00      1.00      1.00      1.00     21.00\n",
       "price                       118315.0    120.65    184.11     0.85     39.90     74.90    134.90   6735.00\n",
       "freight_value               118315.0     20.03     15.84     0.00     13.08     16.28     21.18    409.68\n",
       "customer_zip_code_prefix    118315.0  35051.68  29824.81  1003.00  11310.00  24310.00  58640.00  99990.00\n",
       "seller_zip_code_prefix      118315.0  24440.79  27571.68  1001.00   6429.00  13660.00  27946.50  99730.00\n",
       "payment_sequential          118315.0      1.09      0.73     1.00      1.00      1.00      1.00     29.00\n",
       "payment_installments        118315.0      2.94      2.78     0.00      1.00      2.00      4.00     24.00\n",
       "payment_value               118315.0    172.58    267.10     0.00     60.85    108.20    189.26  13664.08\n",
       "review_score                118315.0      4.01      1.40     1.00      3.00      5.00      5.00      5.00\n",
       "product_name_lenght         116606.0     48.77     10.03     5.00     42.00     52.00     57.00     76.00\n",
       "product_description_lenght  116606.0    785.94    652.58     4.00    346.00    600.00    983.00   3992.00\n",
       "product_photos_qty          118315.0      2.17      1.73     0.00      1.00      1.00      3.00     20.00\n",
       "product_weight_g            118295.0   2112.33   3786.72     0.00    300.00    700.00   1800.00  40425.00\n",
       "product_length_cm           118295.0     30.27     16.19     7.00     18.00     25.00     38.00    105.00\n",
       "product_height_cm           118295.0     16.62     13.45     2.00      8.00     13.00     20.00    105.00\n",
       "product_width_cm            118295.0     23.08     11.75     6.00     15.00     20.00     30.00    118.00"
      ]
     },
     "execution_count": 7,
     "metadata": {},
     "output_type": "execute_result"
    }
   ],
   "source": [
    "df.describe().round(2).T"
   ]
  },
  {
   "cell_type": "code",
   "execution_count": 8,
   "metadata": {},
   "outputs": [
    {
     "data": {
      "text/html": [
       "<div>\n",
       "<style scoped>\n",
       "    .dataframe tbody tr th:only-of-type {\n",
       "        vertical-align: middle;\n",
       "    }\n",
       "\n",
       "    .dataframe tbody tr th {\n",
       "        vertical-align: top;\n",
       "    }\n",
       "\n",
       "    .dataframe thead th {\n",
       "        text-align: right;\n",
       "    }\n",
       "</style>\n",
       "<table border=\"1\" class=\"dataframe\">\n",
       "  <thead>\n",
       "    <tr style=\"text-align: right;\">\n",
       "      <th></th>\n",
       "      <th>order_item_id</th>\n",
       "      <th>price</th>\n",
       "      <th>freight_value</th>\n",
       "      <th>customer_zip_code_prefix</th>\n",
       "      <th>seller_zip_code_prefix</th>\n",
       "      <th>payment_sequential</th>\n",
       "      <th>payment_installments</th>\n",
       "      <th>payment_value</th>\n",
       "      <th>review_score</th>\n",
       "      <th>product_name_lenght</th>\n",
       "      <th>product_description_lenght</th>\n",
       "      <th>product_photos_qty</th>\n",
       "      <th>product_weight_g</th>\n",
       "      <th>product_length_cm</th>\n",
       "      <th>product_height_cm</th>\n",
       "      <th>product_width_cm</th>\n",
       "    </tr>\n",
       "  </thead>\n",
       "  <tbody>\n",
       "    <tr>\n",
       "      <th>order_item_id</th>\n",
       "      <td>1.000000</td>\n",
       "      <td>-0.060452</td>\n",
       "      <td>-0.030666</td>\n",
       "      <td>-0.000513</td>\n",
       "      <td>-0.018391</td>\n",
       "      <td>-0.002869</td>\n",
       "      <td>0.073810</td>\n",
       "      <td>0.265213</td>\n",
       "      <td>-0.131881</td>\n",
       "      <td>-0.024110</td>\n",
       "      <td>-0.015063</td>\n",
       "      <td>-0.052772</td>\n",
       "      <td>-0.004322</td>\n",
       "      <td>0.005379</td>\n",
       "      <td>0.029166</td>\n",
       "      <td>-0.009446</td>\n",
       "    </tr>\n",
       "    <tr>\n",
       "      <th>price</th>\n",
       "      <td>-0.060452</td>\n",
       "      <td>1.000000</td>\n",
       "      <td>0.415940</td>\n",
       "      <td>0.043133</td>\n",
       "      <td>0.088378</td>\n",
       "      <td>0.006837</td>\n",
       "      <td>0.277672</td>\n",
       "      <td>0.739242</td>\n",
       "      <td>-0.005463</td>\n",
       "      <td>0.018025</td>\n",
       "      <td>0.201773</td>\n",
       "      <td>0.052597</td>\n",
       "      <td>0.339373</td>\n",
       "      <td>0.145580</td>\n",
       "      <td>0.224352</td>\n",
       "      <td>0.172631</td>\n",
       "    </tr>\n",
       "    <tr>\n",
       "      <th>freight_value</th>\n",
       "      <td>-0.030666</td>\n",
       "      <td>0.415940</td>\n",
       "      <td>1.000000</td>\n",
       "      <td>0.225495</td>\n",
       "      <td>0.152137</td>\n",
       "      <td>0.022343</td>\n",
       "      <td>0.185711</td>\n",
       "      <td>0.373767</td>\n",
       "      <td>-0.037346</td>\n",
       "      <td>0.022601</td>\n",
       "      <td>0.096523</td>\n",
       "      <td>0.024223</td>\n",
       "      <td>0.611596</td>\n",
       "      <td>0.309653</td>\n",
       "      <td>0.393887</td>\n",
       "      <td>0.325324</td>\n",
       "    </tr>\n",
       "    <tr>\n",
       "      <th>customer_zip_code_prefix</th>\n",
       "      <td>-0.000513</td>\n",
       "      <td>0.043133</td>\n",
       "      <td>0.225495</td>\n",
       "      <td>1.000000</td>\n",
       "      <td>0.075785</td>\n",
       "      <td>-0.021937</td>\n",
       "      <td>0.056786</td>\n",
       "      <td>0.054599</td>\n",
       "      <td>-0.022824</td>\n",
       "      <td>0.015811</td>\n",
       "      <td>0.025408</td>\n",
       "      <td>0.020143</td>\n",
       "      <td>0.001618</td>\n",
       "      <td>0.004300</td>\n",
       "      <td>0.011654</td>\n",
       "      <td>-0.011346</td>\n",
       "    </tr>\n",
       "    <tr>\n",
       "      <th>seller_zip_code_prefix</th>\n",
       "      <td>-0.018391</td>\n",
       "      <td>0.088378</td>\n",
       "      <td>0.152137</td>\n",
       "      <td>0.075785</td>\n",
       "      <td>1.000000</td>\n",
       "      <td>0.014274</td>\n",
       "      <td>0.039067</td>\n",
       "      <td>0.069810</td>\n",
       "      <td>0.026234</td>\n",
       "      <td>-0.032641</td>\n",
       "      <td>0.062237</td>\n",
       "      <td>-0.038583</td>\n",
       "      <td>0.012715</td>\n",
       "      <td>0.034769</td>\n",
       "      <td>0.015313</td>\n",
       "      <td>-0.015408</td>\n",
       "    </tr>\n",
       "    <tr>\n",
       "      <th>payment_sequential</th>\n",
       "      <td>-0.002869</td>\n",
       "      <td>0.006837</td>\n",
       "      <td>0.022343</td>\n",
       "      <td>-0.021937</td>\n",
       "      <td>0.014274</td>\n",
       "      <td>1.000000</td>\n",
       "      <td>-0.086124</td>\n",
       "      <td>-0.064199</td>\n",
       "      <td>-0.003861</td>\n",
       "      <td>-0.005580</td>\n",
       "      <td>0.009941</td>\n",
       "      <td>-0.011819</td>\n",
       "      <td>0.043982</td>\n",
       "      <td>0.048961</td>\n",
       "      <td>0.024475</td>\n",
       "      <td>0.031060</td>\n",
       "    </tr>\n",
       "    <tr>\n",
       "      <th>payment_installments</th>\n",
       "      <td>0.073810</td>\n",
       "      <td>0.277672</td>\n",
       "      <td>0.185711</td>\n",
       "      <td>0.056786</td>\n",
       "      <td>0.039067</td>\n",
       "      <td>-0.086124</td>\n",
       "      <td>1.000000</td>\n",
       "      <td>0.273689</td>\n",
       "      <td>-0.043019</td>\n",
       "      <td>0.020871</td>\n",
       "      <td>0.035988</td>\n",
       "      <td>0.002793</td>\n",
       "      <td>0.177539</td>\n",
       "      <td>0.117629</td>\n",
       "      <td>0.122308</td>\n",
       "      <td>0.137922</td>\n",
       "    </tr>\n",
       "    <tr>\n",
       "      <th>payment_value</th>\n",
       "      <td>0.265213</td>\n",
       "      <td>0.739242</td>\n",
       "      <td>0.373767</td>\n",
       "      <td>0.054599</td>\n",
       "      <td>0.069810</td>\n",
       "      <td>-0.064199</td>\n",
       "      <td>0.273689</td>\n",
       "      <td>1.000000</td>\n",
       "      <td>-0.084428</td>\n",
       "      <td>0.002384</td>\n",
       "      <td>0.156120</td>\n",
       "      <td>0.011577</td>\n",
       "      <td>0.303332</td>\n",
       "      <td>0.138758</td>\n",
       "      <td>0.217183</td>\n",
       "      <td>0.148611</td>\n",
       "    </tr>\n",
       "    <tr>\n",
       "      <th>review_score</th>\n",
       "      <td>-0.131881</td>\n",
       "      <td>-0.005463</td>\n",
       "      <td>-0.037346</td>\n",
       "      <td>-0.022824</td>\n",
       "      <td>0.026234</td>\n",
       "      <td>-0.003861</td>\n",
       "      <td>-0.043019</td>\n",
       "      <td>-0.084428</td>\n",
       "      <td>1.000000</td>\n",
       "      <td>-0.005861</td>\n",
       "      <td>0.009803</td>\n",
       "      <td>0.024366</td>\n",
       "      <td>-0.028854</td>\n",
       "      <td>-0.021160</td>\n",
       "      <td>-0.026753</td>\n",
       "      <td>-0.010957</td>\n",
       "    </tr>\n",
       "    <tr>\n",
       "      <th>product_name_lenght</th>\n",
       "      <td>-0.024110</td>\n",
       "      <td>0.018025</td>\n",
       "      <td>0.022601</td>\n",
       "      <td>0.015811</td>\n",
       "      <td>-0.032641</td>\n",
       "      <td>-0.005580</td>\n",
       "      <td>0.020871</td>\n",
       "      <td>0.002384</td>\n",
       "      <td>-0.005861</td>\n",
       "      <td>1.000000</td>\n",
       "      <td>0.090256</td>\n",
       "      <td>0.145427</td>\n",
       "      <td>0.020733</td>\n",
       "      <td>0.058616</td>\n",
       "      <td>-0.030865</td>\n",
       "      <td>0.062111</td>\n",
       "    </tr>\n",
       "    <tr>\n",
       "      <th>product_description_lenght</th>\n",
       "      <td>-0.015063</td>\n",
       "      <td>0.201773</td>\n",
       "      <td>0.096523</td>\n",
       "      <td>0.025408</td>\n",
       "      <td>0.062237</td>\n",
       "      <td>0.009941</td>\n",
       "      <td>0.035988</td>\n",
       "      <td>0.156120</td>\n",
       "      <td>0.009803</td>\n",
       "      <td>0.090256</td>\n",
       "      <td>1.000000</td>\n",
       "      <td>0.117915</td>\n",
       "      <td>0.063584</td>\n",
       "      <td>0.007487</td>\n",
       "      <td>0.074137</td>\n",
       "      <td>-0.068264</td>\n",
       "    </tr>\n",
       "    <tr>\n",
       "      <th>product_photos_qty</th>\n",
       "      <td>-0.052772</td>\n",
       "      <td>0.052597</td>\n",
       "      <td>0.024223</td>\n",
       "      <td>0.020143</td>\n",
       "      <td>-0.038583</td>\n",
       "      <td>-0.011819</td>\n",
       "      <td>0.002793</td>\n",
       "      <td>0.011577</td>\n",
       "      <td>0.024366</td>\n",
       "      <td>0.145427</td>\n",
       "      <td>0.117915</td>\n",
       "      <td>1.000000</td>\n",
       "      <td>0.022211</td>\n",
       "      <td>0.047956</td>\n",
       "      <td>-0.030336</td>\n",
       "      <td>0.011261</td>\n",
       "    </tr>\n",
       "    <tr>\n",
       "      <th>product_weight_g</th>\n",
       "      <td>-0.004322</td>\n",
       "      <td>0.339373</td>\n",
       "      <td>0.611596</td>\n",
       "      <td>0.001618</td>\n",
       "      <td>0.012715</td>\n",
       "      <td>0.043982</td>\n",
       "      <td>0.177539</td>\n",
       "      <td>0.303332</td>\n",
       "      <td>-0.028854</td>\n",
       "      <td>0.020733</td>\n",
       "      <td>0.063584</td>\n",
       "      <td>0.022211</td>\n",
       "      <td>1.000000</td>\n",
       "      <td>0.463101</td>\n",
       "      <td>0.581977</td>\n",
       "      <td>0.506905</td>\n",
       "    </tr>\n",
       "    <tr>\n",
       "      <th>product_length_cm</th>\n",
       "      <td>0.005379</td>\n",
       "      <td>0.145580</td>\n",
       "      <td>0.309653</td>\n",
       "      <td>0.004300</td>\n",
       "      <td>0.034769</td>\n",
       "      <td>0.048961</td>\n",
       "      <td>0.117629</td>\n",
       "      <td>0.138758</td>\n",
       "      <td>-0.021160</td>\n",
       "      <td>0.058616</td>\n",
       "      <td>0.007487</td>\n",
       "      <td>0.047956</td>\n",
       "      <td>0.463101</td>\n",
       "      <td>1.000000</td>\n",
       "      <td>0.193393</td>\n",
       "      <td>0.535367</td>\n",
       "    </tr>\n",
       "    <tr>\n",
       "      <th>product_height_cm</th>\n",
       "      <td>0.029166</td>\n",
       "      <td>0.224352</td>\n",
       "      <td>0.393887</td>\n",
       "      <td>0.011654</td>\n",
       "      <td>0.015313</td>\n",
       "      <td>0.024475</td>\n",
       "      <td>0.122308</td>\n",
       "      <td>0.217183</td>\n",
       "      <td>-0.026753</td>\n",
       "      <td>-0.030865</td>\n",
       "      <td>0.074137</td>\n",
       "      <td>-0.030336</td>\n",
       "      <td>0.581977</td>\n",
       "      <td>0.193393</td>\n",
       "      <td>1.000000</td>\n",
       "      <td>0.279854</td>\n",
       "    </tr>\n",
       "    <tr>\n",
       "      <th>product_width_cm</th>\n",
       "      <td>-0.009446</td>\n",
       "      <td>0.172631</td>\n",
       "      <td>0.325324</td>\n",
       "      <td>-0.011346</td>\n",
       "      <td>-0.015408</td>\n",
       "      <td>0.031060</td>\n",
       "      <td>0.137922</td>\n",
       "      <td>0.148611</td>\n",
       "      <td>-0.010957</td>\n",
       "      <td>0.062111</td>\n",
       "      <td>-0.068264</td>\n",
       "      <td>0.011261</td>\n",
       "      <td>0.506905</td>\n",
       "      <td>0.535367</td>\n",
       "      <td>0.279854</td>\n",
       "      <td>1.000000</td>\n",
       "    </tr>\n",
       "  </tbody>\n",
       "</table>\n",
       "</div>"
      ],
      "text/plain": [
       "                            order_item_id     price  freight_value  customer_zip_code_prefix  seller_zip_code_prefix  payment_sequential  payment_installments  payment_value  review_score  product_name_lenght  product_description_lenght  product_photos_qty  product_weight_g  product_length_cm  product_height_cm  product_width_cm\n",
       "order_item_id                    1.000000 -0.060452      -0.030666                 -0.000513               -0.018391           -0.002869              0.073810       0.265213     -0.131881            -0.024110                   -0.015063           -0.052772         -0.004322           0.005379           0.029166         -0.009446\n",
       "price                           -0.060452  1.000000       0.415940                  0.043133                0.088378            0.006837              0.277672       0.739242     -0.005463             0.018025                    0.201773            0.052597          0.339373           0.145580           0.224352          0.172631\n",
       "freight_value                   -0.030666  0.415940       1.000000                  0.225495                0.152137            0.022343              0.185711       0.373767     -0.037346             0.022601                    0.096523            0.024223          0.611596           0.309653           0.393887          0.325324\n",
       "customer_zip_code_prefix        -0.000513  0.043133       0.225495                  1.000000                0.075785           -0.021937              0.056786       0.054599     -0.022824             0.015811                    0.025408            0.020143          0.001618           0.004300           0.011654         -0.011346\n",
       "seller_zip_code_prefix          -0.018391  0.088378       0.152137                  0.075785                1.000000            0.014274              0.039067       0.069810      0.026234            -0.032641                    0.062237           -0.038583          0.012715           0.034769           0.015313         -0.015408\n",
       "payment_sequential              -0.002869  0.006837       0.022343                 -0.021937                0.014274            1.000000             -0.086124      -0.064199     -0.003861            -0.005580                    0.009941           -0.011819          0.043982           0.048961           0.024475          0.031060\n",
       "payment_installments             0.073810  0.277672       0.185711                  0.056786                0.039067           -0.086124              1.000000       0.273689     -0.043019             0.020871                    0.035988            0.002793          0.177539           0.117629           0.122308          0.137922\n",
       "payment_value                    0.265213  0.739242       0.373767                  0.054599                0.069810           -0.064199              0.273689       1.000000     -0.084428             0.002384                    0.156120            0.011577          0.303332           0.138758           0.217183          0.148611\n",
       "review_score                    -0.131881 -0.005463      -0.037346                 -0.022824                0.026234           -0.003861             -0.043019      -0.084428      1.000000            -0.005861                    0.009803            0.024366         -0.028854          -0.021160          -0.026753         -0.010957\n",
       "product_name_lenght             -0.024110  0.018025       0.022601                  0.015811               -0.032641           -0.005580              0.020871       0.002384     -0.005861             1.000000                    0.090256            0.145427          0.020733           0.058616          -0.030865          0.062111\n",
       "product_description_lenght      -0.015063  0.201773       0.096523                  0.025408                0.062237            0.009941              0.035988       0.156120      0.009803             0.090256                    1.000000            0.117915          0.063584           0.007487           0.074137         -0.068264\n",
       "product_photos_qty              -0.052772  0.052597       0.024223                  0.020143               -0.038583           -0.011819              0.002793       0.011577      0.024366             0.145427                    0.117915            1.000000          0.022211           0.047956          -0.030336          0.011261\n",
       "product_weight_g                -0.004322  0.339373       0.611596                  0.001618                0.012715            0.043982              0.177539       0.303332     -0.028854             0.020733                    0.063584            0.022211          1.000000           0.463101           0.581977          0.506905\n",
       "product_length_cm                0.005379  0.145580       0.309653                  0.004300                0.034769            0.048961              0.117629       0.138758     -0.021160             0.058616                    0.007487            0.047956          0.463101           1.000000           0.193393          0.535367\n",
       "product_height_cm                0.029166  0.224352       0.393887                  0.011654                0.015313            0.024475              0.122308       0.217183     -0.026753            -0.030865                    0.074137           -0.030336          0.581977           0.193393           1.000000          0.279854\n",
       "product_width_cm                -0.009446  0.172631       0.325324                 -0.011346               -0.015408            0.031060              0.137922       0.148611     -0.010957             0.062111                   -0.068264            0.011261          0.506905           0.535367           0.279854          1.000000"
      ]
     },
     "execution_count": 8,
     "metadata": {},
     "output_type": "execute_result"
    }
   ],
   "source": [
    "df.corr() "
   ]
  },
  {
   "cell_type": "markdown",
   "metadata": {},
   "source": [
    "Sellers"
   ]
  },
  {
   "cell_type": "code",
   "execution_count": 9,
   "metadata": {},
   "outputs": [],
   "source": [
    "sellers_in_states=df.groupby('seller_state')['seller_id'].nunique().sort_values(ascending=False)"
   ]
  },
  {
   "cell_type": "code",
   "execution_count": 47,
   "metadata": {},
   "outputs": [
    {
     "data": {
      "text/plain": [
       "<matplotlib.axes._subplots.AxesSubplot at 0x17385cdeeb8>"
      ]
     },
     "execution_count": 47,
     "metadata": {},
     "output_type": "execute_result"
    },
    {
     "data": {
      "image/png": "[encoded data removed]",
      "text/plain": [
       "<Figure size 1080x576 with 1 Axes>"
      ]
     },
     "metadata": {},
     "output_type": "display_data"
    }
   ],
   "source": [
    "sellers_in_states.head(10).plot(kind='pie',figsize=(15,8))"
   ]
  },
  {
   "cell_type": "markdown",
   "metadata": {},
   "source": [
    "Orders"
   ]
  },
  {
   "cell_type": "code",
   "execution_count": 11,
   "metadata": {},
   "outputs": [],
   "source": [
    "df.drop_duplicates(subset=['order_id'],keep='last',inplace=True)"
   ]
  },
  {
   "cell_type": "code",
   "execution_count": 12,
   "metadata": {},
   "outputs": [
    {
     "data": {
      "text/plain": [
       "98665"
      ]
     },
     "execution_count": 12,
     "metadata": {},
     "output_type": "execute_result"
    }
   ],
   "source": [
    "df.order_id.nunique()"
   ]
  },
  {
   "cell_type": "code",
   "execution_count": 13,
   "metadata": {},
   "outputs": [
    {
     "data": {
      "text/plain": [
       "Text(0, 0.5, 'orders')"
      ]
     },
     "execution_count": 13,
     "metadata": {},
     "output_type": "execute_result"
    },
    {
     "data": {
      "image/png": "[encoded data removed]",
      "text/plain": [
       "<Figure size 720x504 with 1 Axes>"
      ]
     },
     "metadata": {
      "needs_background": "light"
     },
     "output_type": "display_data"
    }
   ],
   "source": [
    "df.order_item_id.value_counts().plot(figsize=(10,7))\n",
    "plt.xlabel('items per order')\n",
    "plt.ylabel('orders')"
   ]
  },
  {
   "cell_type": "code",
   "execution_count": 15,
   "metadata": {},
   "outputs": [
    {
     "data": {
      "text/plain": [
       "<matplotlib.axes._subplots.AxesSubplot at 0x1738e9f8e80>"
      ]
     },
     "execution_count": 15,
     "metadata": {},
     "output_type": "execute_result"
    },
    {
     "data": {
      "image/png": "[encoded data removed]",
      "text/plain": [
       "<Figure size 432x288 with 1 Axes>"
      ]
     },
     "metadata": {
      "needs_background": "light"
     },
     "output_type": "display_data"
    }
   ],
   "source": [
    "df.groupby('order_id')['price','freight_value'].sum().sum().round(2).plot('bar',cmap='inferno')"
   ]
  },
  {
   "cell_type": "code",
   "execution_count": 14,
   "metadata": {},
   "outputs": [
    {
     "data": {
      "text/html": [
       "<div>\n",
       "<style scoped>\n",
       "    .dataframe tbody tr th:only-of-type {\n",
       "        vertical-align: middle;\n",
       "    }\n",
       "\n",
       "    .dataframe tbody tr th {\n",
       "        vertical-align: top;\n",
       "    }\n",
       "\n",
       "    .dataframe thead th {\n",
       "        text-align: right;\n",
       "    }\n",
       "</style>\n",
       "<table border=\"1\" class=\"dataframe\">\n",
       "  <thead>\n",
       "    <tr style=\"text-align: right;\">\n",
       "      <th></th>\n",
       "      <th>0</th>\n",
       "    </tr>\n",
       "  </thead>\n",
       "  <tbody>\n",
       "    <tr>\n",
       "      <th>price</th>\n",
       "      <td>12430669.70</td>\n",
       "    </tr>\n",
       "    <tr>\n",
       "      <th>freight_value</th>\n",
       "      <td>1991797.63</td>\n",
       "    </tr>\n",
       "  </tbody>\n",
       "</table>\n",
       "</div>"
      ],
      "text/plain": [
       "                         0\n",
       "price          12430669.70\n",
       "freight_value   1991797.63"
      ]
     },
     "execution_count": 14,
     "metadata": {},
     "output_type": "execute_result"
    }
   ],
   "source": [
    "df.groupby('order_id')['price','freight_value'].sum().sum().round(2).to_frame()"
   ]
  },
  {
   "cell_type": "code",
   "execution_count": 16,
   "metadata": {},
   "outputs": [
    {
     "data": {
      "text/plain": [
       "32126"
      ]
     },
     "execution_count": 16,
     "metadata": {},
     "output_type": "execute_result"
    }
   ],
   "source": [
    "df.product_id.nunique()"
   ]
  },
  {
   "cell_type": "code",
   "execution_count": 44,
   "metadata": {},
   "outputs": [
    {
     "data": {
      "text/plain": [
       "<matplotlib.axes._subplots.AxesSubplot at 0x1738621c1d0>"
      ]
     },
     "execution_count": 44,
     "metadata": {},
     "output_type": "execute_result"
    },
    {
     "data": {
      "image/png": "[encoded data removed]",
      "text/plain": [
       "<Figure size 864x576 with 1 Axes>"
      ]
     },
     "metadata": {},
     "output_type": "display_data"
    }
   ],
   "source": [
    "df.groupby('customer_state')['customer_unique_id'].nunique().sort_values(ascending=False).head(20).plot(kind='pie',figsize=(12,8))"
   ]
  },
  {
   "cell_type": "code",
   "execution_count": 49,
   "metadata": {},
   "outputs": [
    {
     "data": {
      "text/plain": [
       "<matplotlib.axes._subplots.AxesSubplot at 0x17387203f60>"
      ]
     },
     "execution_count": 49,
     "metadata": {},
     "output_type": "execute_result"
    },
    {
     "data": {
      "image/png": "[encoded data removed]",
      "text/plain": [
       "<Figure size 432x288 with 1 Axes>"
      ]
     },
     "metadata": {},
     "output_type": "display_data"
    }
   ],
   "source": [
    "df.groupby('product_category_name')['order_id'].nunique().sort_values(ascending=False).head(20).plot(kind='pie')"
   ]
  },
  {
   "cell_type": "code",
   "execution_count": 69,
   "metadata": {},
   "outputs": [
    {
     "data": {
      "text/html": [
       "<div>\n",
       "<style scoped>\n",
       "    .dataframe tbody tr th:only-of-type {\n",
       "        vertical-align: middle;\n",
       "    }\n",
       "\n",
       "    .dataframe tbody tr th {\n",
       "        vertical-align: top;\n",
       "    }\n",
       "\n",
       "    .dataframe thead th {\n",
       "        text-align: right;\n",
       "    }\n",
       "</style>\n",
       "<table border=\"1\" class=\"dataframe\">\n",
       "  <thead>\n",
       "    <tr style=\"text-align: right;\">\n",
       "      <th></th>\n",
       "      <th>payment_value</th>\n",
       "    </tr>\n",
       "    <tr>\n",
       "      <th>payment_type</th>\n",
       "      <th></th>\n",
       "    </tr>\n",
       "  </thead>\n",
       "  <tbody>\n",
       "    <tr>\n",
       "      <th>boleto</th>\n",
       "      <td>2842240.16</td>\n",
       "    </tr>\n",
       "    <tr>\n",
       "      <th>credit_card</th>\n",
       "      <td>12310049.88</td>\n",
       "    </tr>\n",
       "    <tr>\n",
       "      <th>debit_card</th>\n",
       "      <td>215079.53</td>\n",
       "    </tr>\n",
       "    <tr>\n",
       "      <th>voucher</th>\n",
       "      <td>216183.21</td>\n",
       "    </tr>\n",
       "  </tbody>\n",
       "</table>\n",
       "</div>"
      ],
      "text/plain": [
       "              payment_value\n",
       "payment_type               \n",
       "boleto           2842240.16\n",
       "credit_card     12310049.88\n",
       "debit_card        215079.53\n",
       "voucher           216183.21"
      ]
     },
     "execution_count": 69,
     "metadata": {},
     "output_type": "execute_result"
    }
   ],
   "source": [
    "df.groupby('payment_type')['payment_value'].sum().round(2).to_frame()"
   ]
  },
  {
   "cell_type": "code",
   "execution_count": 67,
   "metadata": {},
   "outputs": [
    {
     "data": {
      "text/html": [
       "<div>\n",
       "<style scoped>\n",
       "    .dataframe tbody tr th:only-of-type {\n",
       "        vertical-align: middle;\n",
       "    }\n",
       "\n",
       "    .dataframe tbody tr th {\n",
       "        vertical-align: top;\n",
       "    }\n",
       "\n",
       "    .dataframe thead th {\n",
       "        text-align: right;\n",
       "    }\n",
       "</style>\n",
       "<table border=\"1\" class=\"dataframe\">\n",
       "  <thead>\n",
       "    <tr style=\"text-align: right;\">\n",
       "      <th></th>\n",
       "      <th>order_id</th>\n",
       "    </tr>\n",
       "    <tr>\n",
       "      <th>payment_type</th>\n",
       "      <th></th>\n",
       "    </tr>\n",
       "  </thead>\n",
       "  <tbody>\n",
       "    <tr>\n",
       "      <th>boleto</th>\n",
       "      <td>19614</td>\n",
       "    </tr>\n",
       "    <tr>\n",
       "      <th>credit_card</th>\n",
       "      <td>74731</td>\n",
       "    </tr>\n",
       "    <tr>\n",
       "      <th>debit_card</th>\n",
       "      <td>1521</td>\n",
       "    </tr>\n",
       "    <tr>\n",
       "      <th>voucher</th>\n",
       "      <td>2799</td>\n",
       "    </tr>\n",
       "  </tbody>\n",
       "</table>\n",
       "</div>"
      ],
      "text/plain": [
       "              order_id\n",
       "payment_type          \n",
       "boleto           19614\n",
       "credit_card      74731\n",
       "debit_card        1521\n",
       "voucher           2799"
      ]
     },
     "execution_count": 67,
     "metadata": {},
     "output_type": "execute_result"
    }
   ],
   "source": [
    "df.groupby('payment_type')['order_id'].count().to_frame()"
   ]
  },
  {
   "cell_type": "code",
   "execution_count": 80,
   "metadata": {},
   "outputs": [
    {
     "data": {
      "text/plain": [
       "<matplotlib.axes._subplots.AxesSubplot at 0x17388b6cd68>"
      ]
     },
     "execution_count": 80,
     "metadata": {},
     "output_type": "execute_result"
    },
    {
     "data": {
      "image/png": "[encoded data removed]",
      "text/plain": [
       "<Figure size 432x288 with 1 Axes>"
      ]
     },
     "metadata": {
      "needs_background": "light"
     },
     "output_type": "display_data"
    }
   ],
   "source": [
    "df.groupby('payment_installments')['order_id'].count().sort_values(ascending=False).to_frame().plot(kind='bar')"
   ]
  },
  {
   "cell_type": "code",
   "execution_count": 81,
   "metadata": {},
   "outputs": [
    {
     "data": {
      "text/plain": [
       "<matplotlib.axes._subplots.AxesSubplot at 0x1738611f668>"
      ]
     },
     "execution_count": 81,
     "metadata": {},
     "output_type": "execute_result"
    },
    {
     "data": {
      "image/png": "[encoded data removed]",
      "text/plain": [
       "<Figure size 432x288 with 1 Axes>"
      ]
     },
     "metadata": {
      "needs_background": "light"
     },
     "output_type": "display_data"
    }
   ],
   "source": [
    "df.groupby('review_score').order_id.count().plot('bar')"
   ]
  },
  {
   "cell_type": "code",
   "execution_count": 87,
   "metadata": {},
   "outputs": [
    {
     "data": {
      "text/html": [
       "<div>\n",
       "<style scoped>\n",
       "    .dataframe tbody tr th:only-of-type {\n",
       "        vertical-align: middle;\n",
       "    }\n",
       "\n",
       "    .dataframe tbody tr th {\n",
       "        vertical-align: top;\n",
       "    }\n",
       "\n",
       "    .dataframe thead th {\n",
       "        text-align: right;\n",
       "    }\n",
       "</style>\n",
       "<table border=\"1\" class=\"dataframe\">\n",
       "  <thead>\n",
       "    <tr style=\"text-align: right;\">\n",
       "      <th></th>\n",
       "      <th>order_id</th>\n",
       "    </tr>\n",
       "    <tr>\n",
       "      <th>order_status</th>\n",
       "      <th></th>\n",
       "    </tr>\n",
       "  </thead>\n",
       "  <tbody>\n",
       "    <tr>\n",
       "      <th>delivered</th>\n",
       "      <td>96477</td>\n",
       "    </tr>\n",
       "    <tr>\n",
       "      <th>shipped</th>\n",
       "      <td>1106</td>\n",
       "    </tr>\n",
       "    <tr>\n",
       "      <th>canceled</th>\n",
       "      <td>461</td>\n",
       "    </tr>\n",
       "    <tr>\n",
       "      <th>invoiced</th>\n",
       "      <td>312</td>\n",
       "    </tr>\n",
       "    <tr>\n",
       "      <th>processing</th>\n",
       "      <td>301</td>\n",
       "    </tr>\n",
       "    <tr>\n",
       "      <th>unavailable</th>\n",
       "      <td>6</td>\n",
       "    </tr>\n",
       "    <tr>\n",
       "      <th>approved</th>\n",
       "      <td>2</td>\n",
       "    </tr>\n",
       "  </tbody>\n",
       "</table>\n",
       "</div>"
      ],
      "text/plain": [
       "              order_id\n",
       "order_status          \n",
       "delivered        96477\n",
       "shipped           1106\n",
       "canceled           461\n",
       "invoiced           312\n",
       "processing         301\n",
       "unavailable          6\n",
       "approved             2"
      ]
     },
     "execution_count": 87,
     "metadata": {},
     "output_type": "execute_result"
    }
   ],
   "source": [
    "df.groupby('order_status')['order_id'].nunique().sort_values(ascending=False).to_frame()\n"
   ]
  },
  {
   "cell_type": "code",
   "execution_count": 96,
   "metadata": {},
   "outputs": [
    {
     "data": {
      "text/plain": [
       "<matplotlib.axes._subplots.AxesSubplot at 0x1738669a630>"
      ]
     },
     "execution_count": 96,
     "metadata": {},
     "output_type": "execute_result"
    },
    {
     "data": {
      "image/png": "[encoded data removed]",
      "text/plain": [
       "<Figure size 432x288 with 1 Axes>"
      ]
     },
     "metadata": {
      "needs_background": "light"
     },
     "output_type": "display_data"
    }
   ],
   "source": [
    "df['order_purchase_timestamp']=pd.to_datetime(df['order_purchase_timestamp'])\n",
    "df['order_delivered_customer_date']=pd.to_datetime(df['order_delivered_customer_date'])\n",
    "df['weekday']=df['order_purchase_timestamp'].dt.weekday_name\n",
    "df['year']=df['order_purchase_timestamp'].dt.year\n",
    "df['monthday']=df['order_purchase_timestamp'].dt.day\n",
    "df['weekday'] = df['order_purchase_timestamp'].dt.weekday\n",
    "df['month']=df['order_purchase_timestamp'].dt.month\n",
    "df['hour']=df['order_purchase_timestamp'].dt.hour\n",
    "trend_hour=df.groupby('hour').agg('order_id').count().sort_values(ascending=False)\n",
    "trend_hour.plot(kind='bar')\n",
    "#pd.to_datetime(trend_hour, infer_datetime_format=True)\n",
    "#cats = ['12 AM', '01 AM', '02 AM', '03 AM', '04 AM', '05 AM', '06 AM', '07 AM', '08 AM', '09 AM', '10 AM', '11 AM', '12 PM', '01 PM', '02 PM', '03 PM', '04 PM', '05 PM', '06 PM', '07 PM', '08 PM', '09 PM', '10 PM', '11 PM']\n",
    "#dates = pd.Categorical(trend_hour.starttime.dt.strftime('%I %p'), categories=cats, ordered=True)\n",
    "#temp = pd.crosstab(dates, trend_hour)\n",
    "#print (temp)\n"
   ]
  },
  {
   "cell_type": "code",
   "execution_count": 97,
   "metadata": {},
   "outputs": [],
   "source": [
    "trend_year=pd.DataFrame(df.groupby('year')['price'].sum().sort_values(ascending=False).round(2))"
   ]
  },
  {
   "cell_type": "code",
   "execution_count": 98,
   "metadata": {},
   "outputs": [
    {
     "data": {
      "text/plain": [
       "<matplotlib.axes._subplots.AxesSubplot at 0x17386708b38>"
      ]
     },
     "execution_count": 98,
     "metadata": {},
     "output_type": "execute_result"
    },
    {
     "data": {
      "image/png": "[encoded data removed]",
      "text/plain": [
       "<Figure size 432x288 with 1 Axes>"
      ]
     },
     "metadata": {
      "needs_background": "light"
     },
     "output_type": "display_data"
    }
   ],
   "source": [
    "trend_year.plot(kind='bar')"
   ]
  },
  {
   "cell_type": "code",
   "execution_count": 100,
   "metadata": {},
   "outputs": [
    {
     "data": {
      "text/plain": [
       "<matplotlib.legend.Legend at 0x173867812e8>"
      ]
     },
     "execution_count": 100,
     "metadata": {},
     "output_type": "execute_result"
    },
    {
     "data": {
      "image/png": "[encoded data removed]",
      "text/plain": [
       "<Figure size 720x504 with 1 Axes>"
      ]
     },
     "metadata": {
      "needs_background": "light"
     },
     "output_type": "display_data"
    }
   ],
   "source": [
    "usual_week=df.groupby(['weekday','order_status']).sum().order_item_id\n",
    "df_usual_week=pd.DataFrame(usual_week).reset_index()\n",
    "plt.figure(figsize=(10,7))\n",
    "sns.barplot(data=df_usual_week,x='weekday',y='order_item_id',hue='order_status')\n",
    "sns.set(font_scale=2,palette='viridis')\n",
    "sns.barplot(data=df_usual_week,x='weekday',y='order_item_id',hue='order_status').legend(loc='center left', bbox_to_anchor=(-.55, 0.05), ncol=1)\n"
   ]
  },
  {
   "cell_type": "code",
   "execution_count": null,
   "metadata": {},
   "outputs": [],
   "source": []
  }
 ],
 "metadata": {
  "kernelspec": {
   "display_name": "Python 3",
   "language": "python",
   "name": "python3"
  },
  "language_info": {
   "codemirror_mode": {
    "name": "ipython",
    "version": 3
   },
   "file_extension": ".py",
   "mimetype": "text/x-python",
   "name": "python",
   "nbconvert_exporter": "python",
   "pygments_lexer": "ipython3",
   "version": "3.7.3"
  }
 },
 "nbformat": 4,
 "nbformat_minor": 2
}
